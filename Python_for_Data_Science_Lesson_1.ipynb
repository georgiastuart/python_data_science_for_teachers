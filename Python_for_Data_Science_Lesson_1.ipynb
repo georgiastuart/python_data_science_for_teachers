{
  "nbformat": 4,
  "nbformat_minor": 0,
  "metadata": {
    "colab": {
      "name": "Python for Data Science: Lesson 1",
      "provenance": [],
      "collapsed_sections": [],
      "authorship_tag": "ABX9TyPxtzJWFxz2Wg3K4B0QHMJK",
      "include_colab_link": true
    },
    "kernelspec": {
      "name": "python3",
      "display_name": "Python 3"
    },
    "language_info": {
      "name": "python"
    }
  },
  "cells": [
    {
      "cell_type": "markdown",
      "metadata": {
        "id": "view-in-github",
        "colab_type": "text"
      },
      "source": [
        "<a href=\"https://colab.research.google.com/github/georgiastuart/python_data_science_for_teachers/blob/main/Python_for_Data_Science_Lesson_1.ipynb\" target=\"_parent\"><img src=\"https://colab.research.google.com/assets/colab-badge.svg\" alt=\"Open In Colab\"/></a>"
      ]
    },
    {
      "cell_type": "markdown",
      "metadata": {
        "id": "uW_4YxLFVq58"
      },
      "source": [
        "# Python for Data Science: Lesson 1 Python Review\n",
        "\n",
        "Welcome to Python for Data Science! In this training we will:\n",
        "- learn to use Jupyter notebooks via Google colab\n",
        "- learn about machine learning, neural networks, and tensorflow\n",
        "- discuss some of the ethical pitfalls of machine learning"
      ]
    },
    {
      "cell_type": "markdown",
      "metadata": {
        "id": "IrtWJ7FSgX4t"
      },
      "source": [
        "## Python Review\n",
        "\n",
        "We can `print` to the output region using the `print()` function:"
      ]
    },
    {
      "cell_type": "code",
      "metadata": {
        "id": "0-R3M4qLky2f",
        "colab": {
          "base_uri": "https://localhost:8080/"
        },
        "outputId": "3abd2514-d669-471f-85d8-b2ad264f2dad"
      },
      "source": [
        "print('Hello world!')"
      ],
      "execution_count": null,
      "outputs": [
        {
          "output_type": "stream",
          "text": [
            "Hello world!\n"
          ],
          "name": "stdout"
        }
      ]
    },
    {
      "cell_type": "markdown",
      "metadata": {
        "id": "ZWyliY4zgrvE"
      },
      "source": [
        "### Variables\n",
        "\n",
        "**Variables** in Python are declared and set with the assignment operator, `=`.\n",
        "\n",
        "Python uses the **snake case** convention: `snake_case`. Variables are lower case and words are separated with the underscore character.\n",
        "\n",
        "In a Jupyter notebook, we can output the value of a variable to the output region simply by typing the name."
      ]
    },
    {
      "cell_type": "code",
      "metadata": {
        "colab": {
          "base_uri": "https://localhost:8080/"
        },
        "id": "SeGXCjRlggiI",
        "outputId": "3f3a712b-9c8e-4e26-9f83-b171a6f24961"
      },
      "source": [
        "my_variable = 10\n",
        "my_variable"
      ],
      "execution_count": null,
      "outputs": [
        {
          "output_type": "execute_result",
          "data": {
            "text/plain": [
              "10"
            ]
          },
          "metadata": {
            "tags": []
          },
          "execution_count": 10
        }
      ]
    },
    {
      "cell_type": "markdown",
      "metadata": {
        "id": "SC3n4G1298wv"
      },
      "source": [
        "Variables in Python are not locked to a single type. For example, this is valid python code:"
      ]
    },
    {
      "cell_type": "code",
      "metadata": {
        "colab": {
          "base_uri": "https://localhost:8080/"
        },
        "id": "mipIojpE-CN-",
        "outputId": "c4e4c095-4678-4c60-cfb2-903f63fc6ad3"
      },
      "source": [
        "my_variable = 10\n",
        "print(my_variable)\n",
        "my_variable = 'dog'\n",
        "print(my_variable)"
      ],
      "execution_count": null,
      "outputs": [
        {
          "output_type": "stream",
          "text": [
            "10\n",
            "dog\n"
          ],
          "name": "stdout"
        }
      ]
    },
    {
      "cell_type": "markdown",
      "metadata": {
        "id": "A3jRcggHhmhE"
      },
      "source": [
        "### User input\n",
        "\n",
        "We can take user input with the `input()` function. If you need an `int` or a `float`, you must **cast** it with the `int()` or `float()` functions:\n",
        "\n",
        "```python\n",
        "my_string = input('What is your name?')\n",
        "my_int = int(input('How old are you (in whole numbers)?'))\n",
        "my_float = float(input('What is Pi to two decimal places?'))\n",
        "```\n",
        "\n",
        "### Conditionals\n",
        "\n",
        "Python does not have a switch structure (yet), but it does have if - else if - else:\n",
        "\n",
        "```python\n",
        "if <condition>:\n",
        "  <code block>\n",
        "elif <another condition>:\n",
        "  <code block>\n",
        "else:\n",
        "  <final code block>\n",
        "```\n",
        "\n",
        "You can use as many `elif`s as you need.\n",
        "\n",
        "Here's an example:"
      ]
    },
    {
      "cell_type": "code",
      "metadata": {
        "colab": {
          "base_uri": "https://localhost:8080/"
        },
        "id": "_ZdvDll3hP4S",
        "outputId": "24efe1d2-c60d-4ec6-83ca-4dc22ab381b3"
      },
      "source": [
        "grade = float(input('Enter your grade: '))\n",
        "\n",
        "if grade >= 90:\n",
        "  print('You got an A')\n",
        "elif grade >= 80:\n",
        "  print('You got a B')\n",
        "elif grade >= 70:\n",
        "  print('You got a C')\n",
        "elif grade >= 60:\n",
        "  print('You got a D')\n",
        "else:\n",
        "  print('You got an F')"
      ],
      "execution_count": null,
      "outputs": [
        {
          "output_type": "stream",
          "text": [
            "Enter your grade: 85\n",
            "You got a B\n"
          ],
          "name": "stdout"
        }
      ]
    },
    {
      "cell_type": "markdown",
      "metadata": {
        "id": "pUnUJP-b-Lj0"
      },
      "source": [
        "**Your turn!**\n",
        "\n",
        "Write a small program that takes user input and then prints different things depending on that input."
      ]
    },
    {
      "cell_type": "code",
      "metadata": {
        "id": "AOfjX4Ep-Ryi"
      },
      "source": [
        "# Your code here"
      ],
      "execution_count": null,
      "outputs": []
    },
    {
      "cell_type": "markdown",
      "metadata": {
        "id": "yQ2IiQqFm4qk"
      },
      "source": [
        "### Loops\n",
        "\n",
        "Python has two types of loops: `for` loops and `while` loops."
      ]
    },
    {
      "cell_type": "code",
      "metadata": {
        "colab": {
          "base_uri": "https://localhost:8080/"
        },
        "id": "OH2VJKwSk_xI",
        "outputId": "c454a388-3ee6-484a-f44e-c00de0f86f95"
      },
      "source": [
        "for i in range(10):\n",
        "  print(i, end=' ')"
      ],
      "execution_count": null,
      "outputs": [
        {
          "output_type": "stream",
          "text": [
            "0 1 2 3 4 5 6 7 8 9 "
          ],
          "name": "stdout"
        }
      ]
    },
    {
      "cell_type": "code",
      "metadata": {
        "colab": {
          "base_uri": "https://localhost:8080/"
        },
        "id": "iatlraS5pTnG",
        "outputId": "b9934053-7fc6-497f-bcef-c842bef962a1"
      },
      "source": [
        "print('Think of a secret number between 1 and 100 (inclusive)!')\n",
        "\n",
        "guess = 50\n",
        "upper = 101\n",
        "lower = 0\n",
        "num_guesses = 1\n",
        "\n",
        "user_response = ' '\n",
        "\n",
        "while user_response.lower() != 'c':\n",
        "  user_response = input('Is your number higher or lower than {}?\\n Enter \"H\" for higher, \"L\" for lower, or \"C\" for correct: '.format(guess))\n",
        "\n",
        "  if user_response.lower() == 'h':\n",
        "    lower = guess\n",
        "    guess = (upper + lower) // 2 \n",
        "    num_guesses += 1\n",
        "  elif user_response.lower() == 'l':\n",
        "    upper = guess\n",
        "    guess = (upper + lower) // 2\n",
        "    num_guesses += 1\n",
        "  elif user_response.lower() != 'c':\n",
        "    print('{} is not a valid input.'.format(user_response))\n",
        "\n",
        "print('I guessed your number, {}, in {} guesses!'.format(guess, num_guesses))"
      ],
      "execution_count": null,
      "outputs": [
        {
          "output_type": "stream",
          "text": [
            "Think of a secret number between 1 and 100 (inclusive)!\n",
            "Is your number higher or lower than 50?\n",
            " Enter \"H\" for higher, \"L\" for lower, or \"C\" for correct: H\n",
            "Is your number higher or lower than 75?\n",
            " Enter \"H\" for higher, \"L\" for lower, or \"C\" for correct: L\n",
            "Is your number higher or lower than 62?\n",
            " Enter \"H\" for higher, \"L\" for lower, or \"C\" for correct: H\n",
            "Is your number higher or lower than 68?\n",
            " Enter \"H\" for higher, \"L\" for lower, or \"C\" for correct: H\n",
            "Is your number higher or lower than 71?\n",
            " Enter \"H\" for higher, \"L\" for lower, or \"C\" for correct: L\n",
            "Is your number higher or lower than 69?\n",
            " Enter \"H\" for higher, \"L\" for lower, or \"C\" for correct: H\n",
            "Is your number higher or lower than 70?\n",
            " Enter \"H\" for higher, \"L\" for lower, or \"C\" for correct: C\n",
            "I guessed your number, 70, in 7 guesses!\n"
          ],
          "name": "stdout"
        }
      ]
    },
    {
      "cell_type": "markdown",
      "metadata": {
        "id": "F-fgYRQy-V_i"
      },
      "source": [
        "**Your Turn!**\n",
        "\n",
        "Create a for loop that counts from 1 to 100 by 3s, then create a while loop that does the same thing."
      ]
    },
    {
      "cell_type": "code",
      "metadata": {
        "id": "1aaHGfPT-fij"
      },
      "source": [
        "# Your code here!"
      ],
      "execution_count": null,
      "outputs": []
    },
    {
      "cell_type": "markdown",
      "metadata": {
        "id": "qAQiahGw8pzr"
      },
      "source": [
        "### Lists\n",
        "\n",
        "We can have collections of data called **lists**.\n",
        "\n",
        "Unlike *arrays*, lists in Python can contain different types of information.\n"
      ]
    },
    {
      "cell_type": "code",
      "metadata": {
        "colab": {
          "base_uri": "https://localhost:8080/"
        },
        "id": "xax7EbRA9Ioz",
        "outputId": "4aac19bd-bffb-497c-b9c3-a963c0102ba1"
      },
      "source": [
        "my_list = [1, 'cat', 3.14, True]\n",
        "\n",
        "for item in my_list:\n",
        "  print('{} is a {}'.format(item, type(item)))"
      ],
      "execution_count": null,
      "outputs": [
        {
          "output_type": "stream",
          "text": [
            "1 is a <class 'int'>\n",
            "cat is a <class 'str'>\n",
            "3.14 is a <class 'float'>\n",
            "True is a <class 'bool'>\n"
          ],
          "name": "stdout"
        }
      ]
    },
    {
      "cell_type": "markdown",
      "metadata": {
        "id": "dVq8Hn1a9fZR"
      },
      "source": [
        "We can also find the *length* of a list using `len`:"
      ]
    },
    {
      "cell_type": "code",
      "metadata": {
        "colab": {
          "base_uri": "https://localhost:8080/"
        },
        "id": "11jXaTxy9noN",
        "outputId": "16084490-aae9-4387-c046-04abe1322947"
      },
      "source": [
        "len(my_list)"
      ],
      "execution_count": null,
      "outputs": [
        {
          "output_type": "execute_result",
          "data": {
            "text/plain": [
              "4"
            ]
          },
          "metadata": {
            "tags": []
          },
          "execution_count": 18
        }
      ]
    },
    {
      "cell_type": "markdown",
      "metadata": {
        "id": "zsoiuRNH9tFY"
      },
      "source": [
        "And if the list contains all comparable items, we can *sort* it:"
      ]
    },
    {
      "cell_type": "code",
      "metadata": {
        "colab": {
          "base_uri": "https://localhost:8080/"
        },
        "id": "wqtE2klp9xno",
        "outputId": "07d0fed9-6378-415e-ce88-72b534df740d"
      },
      "source": [
        "animals = ['whale', 'lemur', 'dog', 'fish', 'cat']\n",
        "animals.sort()\n",
        "animals"
      ],
      "execution_count": null,
      "outputs": [
        {
          "output_type": "execute_result",
          "data": {
            "text/plain": [
              "['cat', 'dog', 'fish', 'lemur', 'whale']"
            ]
          },
          "metadata": {
            "tags": []
          },
          "execution_count": 19
        }
      ]
    },
    {
      "cell_type": "markdown",
      "metadata": {
        "id": "N6oG41tU-jRC"
      },
      "source": [
        "**Your Turn!**\n",
        "\n",
        "Create a list of your favorite books or movies, then (with a for loop) print out a sentence for each book or movie saying `<food item> is one of my favorite books!`"
      ]
    },
    {
      "cell_type": "code",
      "metadata": {
        "id": "vFk8eaSd-105"
      },
      "source": [
        "# Your code here!"
      ],
      "execution_count": null,
      "outputs": []
    },
    {
      "cell_type": "markdown",
      "metadata": {
        "id": "ypX7ar4cTGh2"
      },
      "source": [
        "### Functions\n",
        "\n",
        "Sometimes we want to\n",
        "- organize code into reusable blocks\n",
        "- name blocks of code\n",
        "\n",
        "We can use **functions**!"
      ]
    },
    {
      "cell_type": "code",
      "metadata": {
        "id": "yzU3EO5swjNP"
      },
      "source": [
        "# The first line is the function signature\n",
        "def print_number_sequence(end_number, inclusive=False):\n",
        "  if inclusive:\n",
        "    end_number += 1\n",
        "  for i in range(end_number):\n",
        "    print(i, end=' ')\n",
        "  print()\n",
        "    "
      ],
      "execution_count": null,
      "outputs": []
    },
    {
      "cell_type": "markdown",
      "metadata": {
        "id": "DJRHiyDpUDzM"
      },
      "source": [
        "Functions must be **called** in order to be used. Above we have defined a function, now lets use it!"
      ]
    },
    {
      "cell_type": "code",
      "metadata": {
        "colab": {
          "base_uri": "https://localhost:8080/"
        },
        "id": "TGcwhazFT9sC",
        "outputId": "75d331da-a0da-4952-fb2b-f8410e867ae1"
      },
      "source": [
        "print_number_sequence(10)\n",
        "print_number_sequence(10, inclusive=True)"
      ],
      "execution_count": null,
      "outputs": [
        {
          "output_type": "stream",
          "text": [
            "0 1 2 3 4 5 6 7 8 9 \n",
            "0 1 2 3 4 5 6 7 8 9 10 \n"
          ],
          "name": "stdout"
        }
      ]
    },
    {
      "cell_type": "markdown",
      "metadata": {
        "id": "uC4i7zKVU_8f"
      },
      "source": [
        "In this function, `end_number` is a **parameter** or **argument**. `inclusive` is a special type of argument called a **keyword argument**."
      ]
    },
    {
      "cell_type": "markdown",
      "metadata": {
        "id": "50k00opb-4KS"
      },
      "source": [
        "**Your Turn!**\n",
        "\n",
        "Create a *function* that takes an integer as a parameter and then determines if it's prime or not. This will bring together a lot of what we reviewed today. \n",
        "\n",
        "Other concepts you'll need:\n",
        "\n",
        "modulo operator: `number % other_number` determines the remainder of `number` divided by `other_number`. If it's 0, `number` is divisible by `other_number`."
      ]
    },
    {
      "cell_type": "code",
      "metadata": {
        "id": "sREV4ck1URJA"
      },
      "source": [
        "# Your code here"
      ],
      "execution_count": null,
      "outputs": []
    },
    {
      "cell_type": "code",
      "metadata": {
        "id": "65NvtwLm_c6j"
      },
      "source": [
        ""
      ],
      "execution_count": null,
      "outputs": []
    }
  ]
}