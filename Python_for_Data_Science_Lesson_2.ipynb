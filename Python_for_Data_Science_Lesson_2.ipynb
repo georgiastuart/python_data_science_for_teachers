{
  "nbformat": 4,
  "nbformat_minor": 0,
  "metadata": {
    "colab": {
      "name": "Python for Data Science Lesson 2",
      "provenance": [],
      "authorship_tag": "ABX9TyNRjn4j5J4NVNeYOTbbV8RK",
      "include_colab_link": true
    },
    "kernelspec": {
      "name": "python3",
      "display_name": "Python 3"
    },
    "language_info": {
      "name": "python"
    }
  },
  "cells": [
    {
      "cell_type": "markdown",
      "metadata": {
        "id": "view-in-github",
        "colab_type": "text"
      },
      "source": [
        "<a href=\"https://colab.research.google.com/github/georgiastuart/python_data_science_for_teachers/blob/main/Python_for_Data_Science_Lesson_2.ipynb\" target=\"_parent\"><img src=\"https://colab.research.google.com/assets/colab-badge.svg\" alt=\"Open In Colab\"/></a>"
      ]
    },
    {
      "cell_type": "markdown",
      "metadata": {
        "id": "XyRH-McoXJOx"
      },
      "source": [
        "# Data Science in Python Prerequisites\n",
        "\n",
        "This course is loosely based on [Python Data Science Handbook](https://jakevdp.github.io/PythonDataScienceHandbook) though we will not cover everything in it (and will add some stuff also!). \n",
        "\n",
        "## Dealing with Data: Pandas and Numpy\n",
        "\n",
        "We will use two large Python libraries: [Pandas](https://pandas.pydata.org/) and [NumPy](https://numpy.org/). To use them, we must **import** them:"
      ]
    },
    {
      "cell_type": "code",
      "metadata": {
        "id": "SS8guijRVj2q"
      },
      "source": [
        "import pandas as pd\n",
        "import numpy as np"
      ],
      "execution_count": null,
      "outputs": []
    },
    {
      "cell_type": "markdown",
      "metadata": {
        "id": "q99-z6IAe8l_"
      },
      "source": [
        "**Numpy** is a math library that provides access to efficient arrays.\n",
        "\n",
        "**Pandas** is a data analysis library."
      ]
    },
    {
      "cell_type": "markdown",
      "metadata": {
        "id": "cyblTXw7fGkm"
      },
      "source": [
        "## Numpy Arrays\n",
        "\n",
        "Numpy arrays are similar to **lists** in Python (see lesson 1). However, Numpy arrays are more similar to arrays in C or Java: they must contain all the same type of data. \n",
        "\n",
        "Numpy arrays are n-dimensional (they can have as many dimensions as you'd like). However, we'll mostly stick to 1 to 3 dimensional arrays. "
      ]
    },
    {
      "cell_type": "code",
      "metadata": {
        "colab": {
          "base_uri": "https://localhost:8080/"
        },
        "id": "qWf_eK2AX6WU",
        "outputId": "649f40f4-733a-419b-d087-376e5b448078"
      },
      "source": [
        "# This creates a 1-dimensional array filled with zeros of type integer\n",
        "my_int_array = np.zeros(100, dtype='int')\n",
        "my_int_array"
      ],
      "execution_count": null,
      "outputs": [
        {
          "output_type": "execute_result",
          "data": {
            "text/plain": [
              "array([0, 0, 0, 0, 0, 0, 0, 0, 0, 0, 0, 0, 0, 0, 0, 0, 0, 0, 0, 0, 0, 0,\n",
              "       0, 0, 0, 0, 0, 0, 0, 0, 0, 0, 0, 0, 0, 0, 0, 0, 0, 0, 0, 0, 0, 0,\n",
              "       0, 0, 0, 0, 0, 0, 0, 0, 0, 0, 0, 0, 0, 0, 0, 0, 0, 0, 0, 0, 0, 0,\n",
              "       0, 0, 0, 0, 0, 0, 0, 0, 0, 0, 0, 0, 0, 0, 0, 0, 0, 0, 0, 0, 0, 0,\n",
              "       0, 0, 0, 0, 0, 0, 0, 0, 0, 0, 0, 0])"
            ]
          },
          "metadata": {
            "tags": []
          },
          "execution_count": 3
        }
      ]
    },
    {
      "cell_type": "markdown",
      "metadata": {
        "id": "l0LtHORXgvKq"
      },
      "source": [
        "### Array indexing and slicing\n",
        "\n",
        "Numpy arrays can be **indexed** and **sliced**. The following code sets the first and last indices (index 0 and index -1) to 10 and then index 20 through 39 to 30:"
      ]
    },
    {
      "cell_type": "code",
      "metadata": {
        "colab": {
          "base_uri": "https://localhost:8080/"
        },
        "id": "xI_NX0b3f2HS",
        "outputId": "79940137-23f9-4dbd-d4b7-f7176c9fa547"
      },
      "source": [
        "my_int_array[0] = 10\n",
        "my_int_array[-1] = 10\n",
        "\n",
        "my_int_array[20:40] = 30\n",
        "\n",
        "my_int_array"
      ],
      "execution_count": null,
      "outputs": [
        {
          "output_type": "execute_result",
          "data": {
            "text/plain": [
              "array([10,  0,  0,  0,  0,  0,  0,  0,  0,  0,  0,  0,  0,  0,  0,  0,  0,\n",
              "        0,  0,  0, 30, 30, 30, 30, 30, 30, 30, 30, 30, 30, 30, 30, 30, 30,\n",
              "       30, 30, 30, 30, 30, 30,  0,  0,  0,  0,  0,  0,  0,  0,  0,  0,  0,\n",
              "        0,  0,  0,  0,  0,  0,  0,  0,  0,  0,  0,  0,  0,  0,  0,  0,  0,\n",
              "        0,  0,  0,  0,  0,  0,  0,  0,  0,  0,  0,  0,  0,  0,  0,  0,  0,\n",
              "        0,  0,  0,  0,  0,  0,  0,  0,  0,  0,  0,  0,  0,  0, 10])"
            ]
          },
          "metadata": {
            "tags": []
          },
          "execution_count": 4
        }
      ]
    },
    {
      "cell_type": "markdown",
      "metadata": {
        "id": "5L_fbrbghZk5"
      },
      "source": [
        "**Your turn!**\n",
        "\n",
        "In the code box below, set index 65 through 89 to 8."
      ]
    },
    {
      "cell_type": "code",
      "metadata": {
        "id": "amfjNOgshXnZ"
      },
      "source": [
        ""
      ],
      "execution_count": null,
      "outputs": []
    },
    {
      "cell_type": "markdown",
      "metadata": {
        "id": "baTMwS5CixiG"
      },
      "source": [
        "### Two dimensional arrays\n",
        "\n",
        "Frequently we need to use two dimensional numpy arrays. They're similar to 1-D, but they have two indices to represent the row and then the column. Unlike 2-D lists (or general 2-D arrays in languages like C and Java), 2-D Numpy arrays will always have the same number of columns in each row.\n",
        "\n",
        "Here's an example:"
      ]
    },
    {
      "cell_type": "code",
      "metadata": {
        "colab": {
          "base_uri": "https://localhost:8080/"
        },
        "id": "bWPaU4b3jEUQ",
        "outputId": "07b6a153-2457-40f1-ea5d-e9a931849c88"
      },
      "source": [
        "my_2d_array = np.zeros((10, 10), dtype='int')\n",
        "print(my_2d_array)\n",
        "print()\n",
        "\n",
        "# Sets row 1 column 1 to 10\n",
        "my_2d_array[1, 1] = 10\n",
        "print(my_2d_array)\n",
        "print()\n",
        "\n",
        "# Sets rows 2 through 6 and columns 3 through 5 to 20\n",
        "my_2d_array[2:7, 3:6] = 20\n",
        "print(my_2d_array)\n",
        "print()\n",
        "\n",
        "# Prints the entire row at index 3\n",
        "print(my_2d_array[3, :])"
      ],
      "execution_count": null,
      "outputs": [
        {
          "output_type": "stream",
          "text": [
            "[[0 0 0 0 0 0 0 0 0 0]\n",
            " [0 0 0 0 0 0 0 0 0 0]\n",
            " [0 0 0 0 0 0 0 0 0 0]\n",
            " [0 0 0 0 0 0 0 0 0 0]\n",
            " [0 0 0 0 0 0 0 0 0 0]\n",
            " [0 0 0 0 0 0 0 0 0 0]\n",
            " [0 0 0 0 0 0 0 0 0 0]\n",
            " [0 0 0 0 0 0 0 0 0 0]\n",
            " [0 0 0 0 0 0 0 0 0 0]\n",
            " [0 0 0 0 0 0 0 0 0 0]]\n",
            "\n",
            "[[ 0  0  0  0  0  0  0  0  0  0]\n",
            " [ 0 10  0  0  0  0  0  0  0  0]\n",
            " [ 0  0  0  0  0  0  0  0  0  0]\n",
            " [ 0  0  0  0  0  0  0  0  0  0]\n",
            " [ 0  0  0  0  0  0  0  0  0  0]\n",
            " [ 0  0  0  0  0  0  0  0  0  0]\n",
            " [ 0  0  0  0  0  0  0  0  0  0]\n",
            " [ 0  0  0  0  0  0  0  0  0  0]\n",
            " [ 0  0  0  0  0  0  0  0  0  0]\n",
            " [ 0  0  0  0  0  0  0  0  0  0]]\n",
            "\n",
            "[[ 0  0  0  0  0  0  0  0  0  0]\n",
            " [ 0 10  0  0  0  0  0  0  0  0]\n",
            " [ 0  0  0 20 20 20  0  0  0  0]\n",
            " [ 0  0  0 20 20 20  0  0  0  0]\n",
            " [ 0  0  0 20 20 20  0  0  0  0]\n",
            " [ 0  0  0 20 20 20  0  0  0  0]\n",
            " [ 0  0  0 20 20 20  0  0  0  0]\n",
            " [ 0  0  0  0  0  0  0  0  0  0]\n",
            " [ 0  0  0  0  0  0  0  0  0  0]\n",
            " [ 0  0  0  0  0  0  0  0  0  0]]\n",
            "\n",
            "[ 0  0  0 20 20 20  0  0  0  0]\n"
          ],
          "name": "stdout"
        }
      ]
    },
    {
      "cell_type": "markdown",
      "metadata": {
        "id": "eSh50QuTlQbh"
      },
      "source": [
        "**Your turn!**\n",
        "\n",
        "Print out rows 5 through 8 and columns 6 through 9.\n"
      ]
    },
    {
      "cell_type": "code",
      "metadata": {
        "id": "0xzhOq1cjJga"
      },
      "source": [
        ""
      ],
      "execution_count": null,
      "outputs": []
    },
    {
      "cell_type": "markdown",
      "metadata": {
        "id": "KJjSs_qSmOIf"
      },
      "source": [
        "### Manipulating Numpy Arrays\n",
        "\n",
        "Numpy arrays (n dimensional) can be manipulated in bulk with math operations:"
      ]
    },
    {
      "cell_type": "code",
      "metadata": {
        "id": "ygQO5lIumU78"
      },
      "source": [
        "array1 = np.random.random((100, 100))\n",
        "array2 = np.random.random((100, 100))\n",
        "\n",
        "array_sum = array1 + array2\n",
        "array_componentwise_product = array1 * array2\n",
        "array_matrix_product = array1 @ array2\n",
        "array_add_2 = array1 + 2\n",
        "array_times_2 = array1 * 2"
      ],
      "execution_count": null,
      "outputs": []
    },
    {
      "cell_type": "markdown",
      "metadata": {
        "id": "7kqWibJ3yOom"
      },
      "source": [
        "### Loading Numpy Arrays from File\n",
        "\n",
        "Numpy arrays can be stored in a variety of file formats, including:\n",
        "- numpy format (.npy)\n",
        "- comma separated values (csv)\n",
        "- hierarchichal data format (HDF5)\n",
        "\n",
        "Lets first load the HDF5 interface module, `h5py`:"
      ]
    },
    {
      "cell_type": "code",
      "metadata": {
        "id": "_FCR0lPOynVm"
      },
      "source": [
        "import h5py"
      ],
      "execution_count": null,
      "outputs": []
    },
    {
      "cell_type": "markdown",
      "metadata": {
        "id": "51UfQcy9yzQ6"
      },
      "source": [
        "Now, lets save a numpy array to each type of file format:"
      ]
    },
    {
      "cell_type": "code",
      "metadata": {
        "colab": {
          "base_uri": "https://localhost:8080/"
        },
        "id": "spG3Mk44yoM5",
        "outputId": "0fb30554-97ed-437e-f667-ed5b1a6e15e8"
      },
      "source": [
        "my_array = np.zeros((100, 100), dtype='int')\n",
        "\n",
        "for i in range(100):\n",
        "  for j in range(100):\n",
        "    my_array[i, j] = i * j\n",
        "\n",
        "my_array"
      ],
      "execution_count": null,
      "outputs": [
        {
          "output_type": "execute_result",
          "data": {
            "text/plain": [
              "array([[   0,    0,    0, ...,    0,    0,    0],\n",
              "       [   0,    1,    2, ...,   97,   98,   99],\n",
              "       [   0,    2,    4, ...,  194,  196,  198],\n",
              "       ...,\n",
              "       [   0,   97,  194, ..., 9409, 9506, 9603],\n",
              "       [   0,   98,  196, ..., 9506, 9604, 9702],\n",
              "       [   0,   99,  198, ..., 9603, 9702, 9801]])"
            ]
          },
          "metadata": {
            "tags": []
          },
          "execution_count": 7
        }
      ]
    },
    {
      "cell_type": "code",
      "metadata": {
        "id": "FwjJ3GuLzFgO"
      },
      "source": [
        "# Saving in numpy format (.npy)\n",
        "np.save('numpy_format_save.npy', my_array)"
      ],
      "execution_count": null,
      "outputs": []
    },
    {
      "cell_type": "code",
      "metadata": {
        "id": "j94f1BV4zSuY"
      },
      "source": [
        "# Saving in csv format\n",
        "np.savetxt('csv_format_save.csv', my_array, delimiter=',')"
      ],
      "execution_count": null,
      "outputs": []
    },
    {
      "cell_type": "code",
      "metadata": {
        "id": "GHLK0N-7zmP8"
      },
      "source": [
        "# Saving in hdf5 format\n",
        "# The \"with\" is called using a context manager in Python\n",
        "with h5py.File('hdf5_save_file.hdf5', 'w') as fp:\n",
        "  dset = fp.create_dataset('my_array', (100, 100), dtype='int')\n",
        "  dset[:, :] = my_array[:, :]"
      ],
      "execution_count": null,
      "outputs": []
    },
    {
      "cell_type": "markdown",
      "metadata": {
        "id": "-84ha-4tnRmk"
      },
      "source": [
        "**An aside: hdf5**\n",
        "\n",
        "HDF5 is commonly used in scientific computing because you can store multiple named matrices / arrays together. For example, this file will contain two matrices:"
      ]
    },
    {
      "cell_type": "code",
      "metadata": {
        "id": "0OHi6ekJnbYC"
      },
      "source": [
        "with h5py.File('hdf5_save_file.hdf5', 'w') as fp:\n",
        "  dset = fp.create_dataset('my_array', (100, 100), dtype='int')\n",
        "  dset[:, :] = my_array[:, :]\n",
        "  dset = fp.create_dataset('random_array', (100, 100), dtype='float64')\n",
        "  dset[:, :] = np.random.random((100, 100))"
      ],
      "execution_count": null,
      "outputs": []
    },
    {
      "cell_type": "markdown",
      "metadata": {
        "id": "qJlyWN_62TPM"
      },
      "source": [
        "### Reading Numpy Arrays in from file\n",
        "\n",
        "Now lets read back in the arrays we just saved:"
      ]
    },
    {
      "cell_type": "code",
      "metadata": {
        "colab": {
          "base_uri": "https://localhost:8080/"
        },
        "id": "NSCAoCCP0C-U",
        "outputId": "b59f1a54-60fd-422a-b587-65841fed47a6"
      },
      "source": [
        "# Reads from .npy format\n",
        "from_npy = np.load('numpy_format_save.npy')\n",
        "from_npy"
      ],
      "execution_count": null,
      "outputs": [
        {
          "output_type": "execute_result",
          "data": {
            "text/plain": [
              "array([[   0,    0,    0, ...,    0,    0,    0],\n",
              "       [   0,    1,    2, ...,   97,   98,   99],\n",
              "       [   0,    2,    4, ...,  194,  196,  198],\n",
              "       ...,\n",
              "       [   0,   97,  194, ..., 9409, 9506, 9603],\n",
              "       [   0,   98,  196, ..., 9506, 9604, 9702],\n",
              "       [   0,   99,  198, ..., 9603, 9702, 9801]])"
            ]
          },
          "metadata": {
            "tags": []
          },
          "execution_count": 11
        }
      ]
    },
    {
      "cell_type": "code",
      "metadata": {
        "colab": {
          "base_uri": "https://localhost:8080/"
        },
        "id": "lz5bhZEN2gL_",
        "outputId": "5d78610c-d659-49ea-a1c6-b4c84fa30490"
      },
      "source": [
        "# Reads from .csv format\n",
        "from_csv = np.loadtxt('csv_format_save.csv', delimiter=',')\n",
        "from_csv = np.array(from_csv, dtype='int')\n",
        "from_csv"
      ],
      "execution_count": null,
      "outputs": [
        {
          "output_type": "execute_result",
          "data": {
            "text/plain": [
              "array([[   0,    0,    0, ...,    0,    0,    0],\n",
              "       [   0,    1,    2, ...,   97,   98,   99],\n",
              "       [   0,    2,    4, ...,  194,  196,  198],\n",
              "       ...,\n",
              "       [   0,   97,  194, ..., 9409, 9506, 9603],\n",
              "       [   0,   98,  196, ..., 9506, 9604, 9702],\n",
              "       [   0,   99,  198, ..., 9603, 9702, 9801]])"
            ]
          },
          "metadata": {
            "tags": []
          },
          "execution_count": 12
        }
      ]
    },
    {
      "cell_type": "code",
      "metadata": {
        "colab": {
          "base_uri": "https://localhost:8080/"
        },
        "id": "vu03f3g72p-C",
        "outputId": "0b3a5e97-8785-4c4c-a0e2-20afefa53237"
      },
      "source": [
        "# Reads from hdf5 format\n",
        "with h5py.File('hdf5_save_file.hdf5', 'r') as fp:\n",
        "  from_hdf5 = fp['my_array'][:, :]\n",
        "\n",
        "from_hdf5"
      ],
      "execution_count": null,
      "outputs": [
        {
          "output_type": "execute_result",
          "data": {
            "text/plain": [
              "array([[   0,    0,    0, ...,    0,    0,    0],\n",
              "       [   0,    1,    2, ...,   97,   98,   99],\n",
              "       [   0,    2,    4, ...,  194,  196,  198],\n",
              "       ...,\n",
              "       [   0,   97,  194, ..., 9409, 9506, 9603],\n",
              "       [   0,   98,  196, ..., 9506, 9604, 9702],\n",
              "       [   0,   99,  198, ..., 9603, 9702, 9801]])"
            ]
          },
          "metadata": {
            "tags": []
          },
          "execution_count": 13
        }
      ]
    },
    {
      "cell_type": "markdown",
      "metadata": {
        "id": "JJN4_Ixo8AWp"
      },
      "source": [
        "**Your Turn!**\n",
        "\n",
        "Create a 1000 x 1000 array of integers and fill it with whatever you'd like. Then, save it and load it back in with each of the three filetypes above."
      ]
    },
    {
      "cell_type": "code",
      "metadata": {
        "id": "37CX4kI68AGH"
      },
      "source": [
        ""
      ],
      "execution_count": null,
      "outputs": []
    },
    {
      "cell_type": "markdown",
      "metadata": {
        "id": "IjWP8C964dv6"
      },
      "source": [
        "## Pandas Data Frames\n",
        "\n",
        "Numpy arrays are good for data that is all one type. What if you have a collection of data (like a spreadsheet) that has multiple types of information?\n",
        "\n",
        "We can use a Pandas data frame."
      ]
    },
    {
      "cell_type": "code",
      "metadata": {
        "colab": {
          "base_uri": "https://localhost:8080/",
          "height": 527
        },
        "id": "7SvF5j083Myd",
        "outputId": "706e883a-cdb3-4be0-9b6f-e449eb9dd44c"
      },
      "source": [
        "cas_data = pd.read_csv('https://raw.githubusercontent.com/georgiastuart/WeTeach_Python/main/cas_data.csv', header=0, encoding = \"ISO-8859-1\", engine='python')\n",
        "cas_data"
      ],
      "execution_count": null,
      "outputs": [
        {
          "output_type": "execute_result",
          "data": {
            "text/html": [
              "<div>\n",
              "<style scoped>\n",
              "    .dataframe tbody tr th:only-of-type {\n",
              "        vertical-align: middle;\n",
              "    }\n",
              "\n",
              "    .dataframe tbody tr th {\n",
              "        vertical-align: top;\n",
              "    }\n",
              "\n",
              "    .dataframe thead th {\n",
              "        text-align: right;\n",
              "    }\n",
              "</style>\n",
              "<table border=\"1\" class=\"dataframe\">\n",
              "  <thead>\n",
              "    <tr style=\"text-align: right;\">\n",
              "      <th></th>\n",
              "      <th>Country</th>\n",
              "      <th>Region</th>\n",
              "      <th>Gender</th>\n",
              "      <th>Ageyears</th>\n",
              "      <th>Handed</th>\n",
              "      <th>Height</th>\n",
              "      <th>Foot_Length</th>\n",
              "      <th>Arm_Span</th>\n",
              "      <th>Languages_spoken</th>\n",
              "      <th>Travel_to_School</th>\n",
              "      <th>Travel_time_to_School</th>\n",
              "      <th>Reaction_time</th>\n",
              "      <th>Score_in_memory_game</th>\n",
              "      <th>Favourite_physical_activity</th>\n",
              "      <th>Importance_reducing_pollution</th>\n",
              "      <th>Importance_recycling_rubbish</th>\n",
              "      <th>Importance_conserving_water</th>\n",
              "      <th>Importance_saving_enery</th>\n",
              "      <th>Importance_owning_computer</th>\n",
              "      <th>Importance_Internet_access</th>\n",
              "      <th>Unnamed: 20</th>\n",
              "    </tr>\n",
              "  </thead>\n",
              "  <tbody>\n",
              "    <tr>\n",
              "      <th>0</th>\n",
              "      <td>USA</td>\n",
              "      <td>DC</td>\n",
              "      <td>M</td>\n",
              "      <td>11</td>\n",
              "      <td>R</td>\n",
              "      <td>139</td>\n",
              "      <td>24</td>\n",
              "      <td>149</td>\n",
              "      <td>1</td>\n",
              "      <td>Rail</td>\n",
              "      <td>21</td>\n",
              "      <td>0.316</td>\n",
              "      <td>7</td>\n",
              "      <td>Gymnastics</td>\n",
              "      <td>0</td>\n",
              "      <td>1000.0</td>\n",
              "      <td>1000</td>\n",
              "      <td>NaN</td>\n",
              "      <td>460.0</td>\n",
              "      <td>460.0</td>\n",
              "      <td>NaN</td>\n",
              "    </tr>\n",
              "    <tr>\n",
              "      <th>1</th>\n",
              "      <td>OZ</td>\n",
              "      <td>New South Wales</td>\n",
              "      <td>M</td>\n",
              "      <td>12</td>\n",
              "      <td>R</td>\n",
              "      <td>168</td>\n",
              "      <td>26</td>\n",
              "      <td>154</td>\n",
              "      <td>1</td>\n",
              "      <td>Bus</td>\n",
              "      <td>20</td>\n",
              "      <td>0.420</td>\n",
              "      <td>35</td>\n",
              "      <td>Other activities/sports</td>\n",
              "      <td>675</td>\n",
              "      <td>1000.0</td>\n",
              "      <td>450</td>\n",
              "      <td>450.0</td>\n",
              "      <td>178.0</td>\n",
              "      <td>184.0</td>\n",
              "      <td>NaN</td>\n",
              "    </tr>\n",
              "    <tr>\n",
              "      <th>2</th>\n",
              "      <td>NZ</td>\n",
              "      <td>Waikato</td>\n",
              "      <td>M</td>\n",
              "      <td>17</td>\n",
              "      <td>R</td>\n",
              "      <td>188</td>\n",
              "      <td>27</td>\n",
              "      <td>180</td>\n",
              "      <td>1</td>\n",
              "      <td>Bus</td>\n",
              "      <td>25</td>\n",
              "      <td>0.442</td>\n",
              "      <td>0</td>\n",
              "      <td>Football/Soccer</td>\n",
              "      <td>250</td>\n",
              "      <td>NaN</td>\n",
              "      <td>500</td>\n",
              "      <td>NaN</td>\n",
              "      <td>NaN</td>\n",
              "      <td>NaN</td>\n",
              "      <td>NaN</td>\n",
              "    </tr>\n",
              "    <tr>\n",
              "      <th>3</th>\n",
              "      <td>NZ</td>\n",
              "      <td>Auckland</td>\n",
              "      <td>F</td>\n",
              "      <td>15</td>\n",
              "      <td>L</td>\n",
              "      <td>155</td>\n",
              "      <td>22</td>\n",
              "      <td>166</td>\n",
              "      <td>1</td>\n",
              "      <td>Car</td>\n",
              "      <td>15</td>\n",
              "      <td>0.407</td>\n",
              "      <td>0</td>\n",
              "      <td>Football/Soccer</td>\n",
              "      <td>750</td>\n",
              "      <td>NaN</td>\n",
              "      <td>750</td>\n",
              "      <td>NaN</td>\n",
              "      <td>NaN</td>\n",
              "      <td>NaN</td>\n",
              "      <td>NaN</td>\n",
              "    </tr>\n",
              "    <tr>\n",
              "      <th>4</th>\n",
              "      <td>NZ</td>\n",
              "      <td>Auckland</td>\n",
              "      <td>F</td>\n",
              "      <td>14</td>\n",
              "      <td>R</td>\n",
              "      <td>165</td>\n",
              "      <td>24</td>\n",
              "      <td>165</td>\n",
              "      <td>1</td>\n",
              "      <td>Car</td>\n",
              "      <td>15</td>\n",
              "      <td>0.375</td>\n",
              "      <td>0</td>\n",
              "      <td>Basketball</td>\n",
              "      <td>750</td>\n",
              "      <td>NaN</td>\n",
              "      <td>750</td>\n",
              "      <td>NaN</td>\n",
              "      <td>NaN</td>\n",
              "      <td>NaN</td>\n",
              "      <td>NaN</td>\n",
              "    </tr>\n",
              "    <tr>\n",
              "      <th>...</th>\n",
              "      <td>...</td>\n",
              "      <td>...</td>\n",
              "      <td>...</td>\n",
              "      <td>...</td>\n",
              "      <td>...</td>\n",
              "      <td>...</td>\n",
              "      <td>...</td>\n",
              "      <td>...</td>\n",
              "      <td>...</td>\n",
              "      <td>...</td>\n",
              "      <td>...</td>\n",
              "      <td>...</td>\n",
              "      <td>...</td>\n",
              "      <td>...</td>\n",
              "      <td>...</td>\n",
              "      <td>...</td>\n",
              "      <td>...</td>\n",
              "      <td>...</td>\n",
              "      <td>...</td>\n",
              "      <td>...</td>\n",
              "      <td>...</td>\n",
              "    </tr>\n",
              "    <tr>\n",
              "      <th>495</th>\n",
              "      <td>CA</td>\n",
              "      <td>Quebec</td>\n",
              "      <td>M</td>\n",
              "      <td>12</td>\n",
              "      <td>L</td>\n",
              "      <td>150</td>\n",
              "      <td>22</td>\n",
              "      <td>146</td>\n",
              "      <td>2</td>\n",
              "      <td>Car</td>\n",
              "      <td>2</td>\n",
              "      <td>1.172</td>\n",
              "      <td>84</td>\n",
              "      <td>Hockey (Ice)</td>\n",
              "      <td>1000</td>\n",
              "      <td>1000.0</td>\n",
              "      <td>1000</td>\n",
              "      <td>888.0</td>\n",
              "      <td>144.0</td>\n",
              "      <td>107.0</td>\n",
              "      <td>NaN</td>\n",
              "    </tr>\n",
              "    <tr>\n",
              "      <th>496</th>\n",
              "      <td>NZ</td>\n",
              "      <td>Otago</td>\n",
              "      <td>M</td>\n",
              "      <td>10</td>\n",
              "      <td>R</td>\n",
              "      <td>144</td>\n",
              "      <td>23</td>\n",
              "      <td>150</td>\n",
              "      <td>1</td>\n",
              "      <td>Bus</td>\n",
              "      <td>25</td>\n",
              "      <td>0.594</td>\n",
              "      <td>0</td>\n",
              "      <td>Football/Soccer</td>\n",
              "      <td>500</td>\n",
              "      <td>NaN</td>\n",
              "      <td>750</td>\n",
              "      <td>NaN</td>\n",
              "      <td>NaN</td>\n",
              "      <td>NaN</td>\n",
              "      <td>NaN</td>\n",
              "    </tr>\n",
              "    <tr>\n",
              "      <th>497</th>\n",
              "      <td>UK</td>\n",
              "      <td>South West</td>\n",
              "      <td>F</td>\n",
              "      <td>14</td>\n",
              "      <td>R</td>\n",
              "      <td>173</td>\n",
              "      <td>21</td>\n",
              "      <td>173</td>\n",
              "      <td>1</td>\n",
              "      <td>Bus</td>\n",
              "      <td>45</td>\n",
              "      <td>0.360</td>\n",
              "      <td>29</td>\n",
              "      <td>Athletics</td>\n",
              "      <td>0</td>\n",
              "      <td>0.0</td>\n",
              "      <td>0</td>\n",
              "      <td>0.0</td>\n",
              "      <td>0.0</td>\n",
              "      <td>0.0</td>\n",
              "      <td>NaN</td>\n",
              "    </tr>\n",
              "    <tr>\n",
              "      <th>498</th>\n",
              "      <td>OZ</td>\n",
              "      <td>Western OZ</td>\n",
              "      <td>F</td>\n",
              "      <td>9</td>\n",
              "      <td>R</td>\n",
              "      <td>139</td>\n",
              "      <td>22</td>\n",
              "      <td>145</td>\n",
              "      <td>2</td>\n",
              "      <td>Walk</td>\n",
              "      <td>10</td>\n",
              "      <td>0.590</td>\n",
              "      <td>68</td>\n",
              "      <td>Basketball</td>\n",
              "      <td>1000</td>\n",
              "      <td>1000.0</td>\n",
              "      <td>1000</td>\n",
              "      <td>444.0</td>\n",
              "      <td>1.0</td>\n",
              "      <td>NaN</td>\n",
              "      <td>NaN</td>\n",
              "    </tr>\n",
              "    <tr>\n",
              "      <th>499</th>\n",
              "      <td>CA</td>\n",
              "      <td>Ontario</td>\n",
              "      <td>M</td>\n",
              "      <td>14</td>\n",
              "      <td>L</td>\n",
              "      <td>160</td>\n",
              "      <td>27</td>\n",
              "      <td>161</td>\n",
              "      <td>1</td>\n",
              "      <td>Walk</td>\n",
              "      <td>15</td>\n",
              "      <td>0.360</td>\n",
              "      <td>50</td>\n",
              "      <td>Hockey (Ice)</td>\n",
              "      <td>294</td>\n",
              "      <td>283.0</td>\n",
              "      <td>241</td>\n",
              "      <td>102.0</td>\n",
              "      <td>476.0</td>\n",
              "      <td>439.0</td>\n",
              "      <td>NaN</td>\n",
              "    </tr>\n",
              "  </tbody>\n",
              "</table>\n",
              "<p>500 rows × 21 columns</p>\n",
              "</div>"
            ],
            "text/plain": [
              "    Country           Region  ... Importance_Internet_access  Unnamed: 20\n",
              "0       USA               DC  ...                      460.0          NaN\n",
              "1        OZ  New South Wales  ...                      184.0          NaN\n",
              "2        NZ          Waikato  ...                        NaN          NaN\n",
              "3        NZ         Auckland  ...                        NaN          NaN\n",
              "4        NZ         Auckland  ...                        NaN          NaN\n",
              "..      ...              ...  ...                        ...          ...\n",
              "495      CA           Quebec  ...                      107.0          NaN\n",
              "496      NZ            Otago  ...                        NaN          NaN\n",
              "497      UK       South West  ...                        0.0          NaN\n",
              "498      OZ       Western OZ  ...                        NaN          NaN\n",
              "499      CA          Ontario  ...                      439.0          NaN\n",
              "\n",
              "[500 rows x 21 columns]"
            ]
          },
          "metadata": {
            "tags": []
          },
          "execution_count": 14
        }
      ]
    },
    {
      "cell_type": "markdown",
      "metadata": {
        "id": "GgyQSM0g7cMe"
      },
      "source": [
        "We can pull out specific columns from the data frame:"
      ]
    },
    {
      "cell_type": "code",
      "metadata": {
        "id": "l5yWkLSX6MTa",
        "colab": {
          "base_uri": "https://localhost:8080/"
        },
        "outputId": "ff6f6198-43ba-40f1-aea2-715f008ebe98"
      },
      "source": [
        "cas_data['Height']"
      ],
      "execution_count": null,
      "outputs": [
        {
          "output_type": "execute_result",
          "data": {
            "text/plain": [
              "0      139\n",
              "1      168\n",
              "2      188\n",
              "3      155\n",
              "4      165\n",
              "      ... \n",
              "495    150\n",
              "496    144\n",
              "497    173\n",
              "498    139\n",
              "499    160\n",
              "Name: Height, Length: 500, dtype: int64"
            ]
          },
          "metadata": {
            "tags": []
          },
          "execution_count": 19
        }
      ]
    },
    {
      "cell_type": "markdown",
      "metadata": {
        "id": "gwsc3LfX8EDm"
      },
      "source": [
        "We can also perform statistics on the data frame:"
      ]
    },
    {
      "cell_type": "code",
      "metadata": {
        "colab": {
          "base_uri": "https://localhost:8080/"
        },
        "id": "SrMhf-GC7ibu",
        "outputId": "1ea2bc57-4f16-49c5-81c8-73140bb5f6de"
      },
      "source": [
        "cas_data.mean(numeric_only=True)"
      ],
      "execution_count": null,
      "outputs": [
        {
          "output_type": "execute_result",
          "data": {
            "text/plain": [
              "Ageyears                          13.392000\n",
              "Height                           160.378000\n",
              "Foot_Length                       23.842000\n",
              "Arm_Span                         157.404000\n",
              "Languages_spoken                   1.538000\n",
              "Travel_time_to_School             17.078000\n",
              "Reaction_time                      0.420589\n",
              "Score_in_memory_game              38.738000\n",
              "Importance_reducing_pollution    657.486000\n",
              "Importance_recycling_rubbish     631.791284\n",
              "Importance_conserving_water      644.700000\n",
              "Importance_saving_enery          650.827338\n",
              "Importance_owning_computer       586.223529\n",
              "Importance_Internet_access       640.667464\n",
              "Unnamed: 20                             NaN\n",
              "dtype: float64"
            ]
          },
          "metadata": {
            "tags": []
          },
          "execution_count": 16
        }
      ]
    },
    {
      "cell_type": "code",
      "metadata": {
        "colab": {
          "base_uri": "https://localhost:8080/"
        },
        "id": "HiistNRz8Io3",
        "outputId": "928f1ef2-e6d8-438e-c182-2329ca9b2fa6"
      },
      "source": [
        "cas_data.median(numeric_only=True)"
      ],
      "execution_count": null,
      "outputs": [
        {
          "output_type": "execute_result",
          "data": {
            "text/plain": [
              "Ageyears                          13.00\n",
              "Height                           160.00\n",
              "Foot_Length                       24.00\n",
              "Arm_Span                         158.00\n",
              "Languages_spoken                   1.00\n",
              "Travel_time_to_School             15.00\n",
              "Reaction_time                      0.39\n",
              "Score_in_memory_game              40.00\n",
              "Importance_reducing_pollution    703.50\n",
              "Importance_recycling_rubbish     626.00\n",
              "Importance_conserving_water      669.50\n",
              "Importance_saving_enery          693.00\n",
              "Importance_owning_computer       604.00\n",
              "Importance_Internet_access       706.00\n",
              "Unnamed: 20                         NaN\n",
              "dtype: float64"
            ]
          },
          "metadata": {
            "tags": []
          },
          "execution_count": 17
        }
      ]
    },
    {
      "cell_type": "markdown",
      "metadata": {
        "id": "1kwC5TNyoCTk"
      },
      "source": [
        "Or we can perform stats on a specific column:"
      ]
    },
    {
      "cell_type": "code",
      "metadata": {
        "colab": {
          "base_uri": "https://localhost:8080/"
        },
        "id": "QFBUE0l8oBzM",
        "outputId": "75cb54b0-4844-4e7c-de75-ba4af4a6a8c7"
      },
      "source": [
        "cas_data['Height'].mean()"
      ],
      "execution_count": null,
      "outputs": [
        {
          "output_type": "execute_result",
          "data": {
            "text/plain": [
              "160.378"
            ]
          },
          "metadata": {
            "tags": []
          },
          "execution_count": 26
        }
      ]
    },
    {
      "cell_type": "code",
      "metadata": {
        "id": "cyuMArz48Moc"
      },
      "source": [
        ""
      ],
      "execution_count": null,
      "outputs": []
    }
  ]
}