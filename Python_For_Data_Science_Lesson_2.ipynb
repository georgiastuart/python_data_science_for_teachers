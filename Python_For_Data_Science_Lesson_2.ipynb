{
  "nbformat": 4,
  "nbformat_minor": 0,
  "metadata": {
    "colab": {
      "name": "WeTeach_Python Day 4 Lesson 1",
      "provenance": [],
      "authorship_tag": "ABX9TyOt0tXyxAKaQAeqcRZ/cako",
      "include_colab_link": true
    },
    "kernelspec": {
      "name": "python3",
      "display_name": "Python 3"
    },
    "language_info": {
      "name": "python"
    }
  },
  "cells": [
    {
      "cell_type": "markdown",
      "metadata": {
        "id": "view-in-github",
        "colab_type": "text"
      },
      "source": [
        "<a href=\"https://colab.research.google.com/github/georgiastuart/python_data_science_for_teachers/blob/main/Python_For_Data_Science_Lesson_2.ipynb\" target=\"_parent\"><img src=\"https://colab.research.google.com/assets/colab-badge.svg\" alt=\"Open In Colab\"/></a>"
      ]
    },
    {
      "cell_type": "markdown",
      "metadata": {
        "id": "aWiKxsW_QwbJ"
      },
      "source": [
        "# WeTeach Python Day 4 Lesson 1: Introduction to Regression Neural Networks\n",
        "\n",
        "This lesson is inspired by [this notebook](https://www.kaggle.com/arunkumarramanan/tensorflow-tutorial-and-housing-price-prediction) on Kaggle. \n",
        "\n",
        "We will use the [Tensorflow](https://www.tensorflow.org/api_docs/python/tf) Python library in order to build a neural network to predict housing prices (in 1970s Boston). \n",
        "\n",
        "## What is a Neural Network?\n",
        "\n",
        "A *neural network* is a mathematical structure composed of layers of neurons inspired by how our brains work. \n",
        "\n",
        "[This 3Blue1Brown video](https://www.youtube.com/watch?v=aircAruvnKk) is a great introduction to the structure of neural networks."
      ]
    },
    {
      "cell_type": "code",
      "metadata": {
        "id": "BK-AagUcQdoN"
      },
      "source": [
        "import tensorflow as tf\n",
        "from tensorflow import keras\n",
        "from tensorflow.keras.layers import Conv2D, MaxPooling2D, Dropout, Flatten, Dense\n",
        "\n",
        "import numpy as np\n",
        "import matplotlib.pyplot as plt\n",
        "import pandas as pd\n",
        "import seaborn as sns"
      ],
      "execution_count": 1,
      "outputs": []
    },
    {
      "cell_type": "markdown",
      "metadata": {
        "id": "Cb080T9IU0Di"
      },
      "source": [
        "## Acquiring Data\n",
        "\n",
        "For this tutorial, we'll use data that's provided by the `keras` module itself. We'll load a *training set* and its associated *labels* (output) and a *test set* with labels. \n",
        "\n",
        "The data is [Boston Housing Price Data](https://keras.io/api/datasets/boston_housing/) which is composed of 13 factors that may predict the price of a house in Boston. The keras dataset is simply a numpy array, but we can see what each column refers to [here](http://lib.stat.cmu.edu/datasets/boston)."
      ]
    },
    {
      "cell_type": "code",
      "metadata": {
        "colab": {
          "base_uri": "https://localhost:8080/"
        },
        "id": "AeUyrOHXUUIt",
        "outputId": "8b0a0cdb-6474-4d3d-e879-589597b889a3"
      },
      "source": [
        "(train_features, train_labels), (test_features, test_labels) = keras.datasets.boston_housing.load_data()"
      ],
      "execution_count": 2,
      "outputs": [
        {
          "output_type": "stream",
          "name": "stdout",
          "text": [
            "Downloading data from https://storage.googleapis.com/tensorflow/tf-keras-datasets/boston_housing.npz\n",
            "57344/57026 [==============================] - 0s 0us/step\n",
            "65536/57026 [==================================] - 0s 0us/step\n"
          ]
        }
      ]
    },
    {
      "cell_type": "markdown",
      "metadata": {
        "id": "1WOcfslnVTqf"
      },
      "source": [
        "Lets look at the data:"
      ]
    },
    {
      "cell_type": "code",
      "metadata": {
        "colab": {
          "base_uri": "https://localhost:8080/"
        },
        "id": "gnpGTPQGVVLh",
        "outputId": "20bb5423-65d2-494f-ed92-56837da0f1ed"
      },
      "source": [
        "print(train_features.shape)\n",
        "print(train_labels.shape)"
      ],
      "execution_count": 3,
      "outputs": [
        {
          "output_type": "stream",
          "name": "stdout",
          "text": [
            "(404, 13)\n",
            "(404,)\n"
          ]
        }
      ]
    },
    {
      "cell_type": "markdown",
      "metadata": {
        "id": "gI0zNiTpVQMW"
      },
      "source": [
        "As you can see, we have 404 data observations and 13 pieces of information \n",
        "\n",
        "Now we need to set up the data for training the network. If we look at the data, we see that each line of data is all different magnitudes:"
      ]
    },
    {
      "cell_type": "code",
      "metadata": {
        "colab": {
          "base_uri": "https://localhost:8080/"
        },
        "id": "-nE3kW59VEPu",
        "outputId": "8a48c6c5-c743-4d2c-f415-53b24bfae3bd"
      },
      "source": [
        "print(train_features[0, :])"
      ],
      "execution_count": 4,
      "outputs": [
        {
          "output_type": "stream",
          "name": "stdout",
          "text": [
            "[  1.23247   0.        8.14      0.        0.538     6.142    91.7\n",
            "   3.9769    4.      307.       21.      396.9      18.72   ]\n"
          ]
        }
      ]
    },
    {
      "cell_type": "markdown",
      "metadata": {
        "id": "R8TnXxG1UseX"
      },
      "source": [
        "Neural networks are more effectively trained when data is *normalized*, so we're going to scale each column so that they're on the same scale.\n",
        "\n",
        "We do that by calculating the *z-score* of each datapoint (the number of standard deviations away from the mean):\n",
        "\n",
        "$$\\frac{x - \\bar{x}}{\\sigma}$$\n",
        "\n",
        "where $x$ is a data point, $\\bar{x}$ is the mean of the feature, and $\\sigma$ is the standard deviation of the feature."
      ]
    },
    {
      "cell_type": "code",
      "metadata": {
        "colab": {
          "base_uri": "https://localhost:8080/"
        },
        "id": "QNLrdecbUd7e",
        "outputId": "4382f5d6-e862-46b4-ad55-de997a3dae63"
      },
      "source": [
        "train_mean = np.mean(train_features, axis=0)\n",
        "print(train_mean.shape, train_mean)\n",
        "train_std = np.std(train_features, axis=0)\n",
        "\n",
        "normalized_train_features = (train_features - train_mean) / train_std"
      ],
      "execution_count": 5,
      "outputs": [
        {
          "output_type": "stream",
          "name": "stdout",
          "text": [
            "(13,) [3.74511057e+00 1.14801980e+01 1.11044307e+01 6.18811881e-02\n",
            " 5.57355941e-01 6.26708168e+00 6.90106436e+01 3.74027079e+00\n",
            " 9.44059406e+00 4.05898515e+02 1.84759901e+01 3.54783168e+02\n",
            " 1.27408168e+01]\n"
          ]
        }
      ]
    },
    {
      "cell_type": "code",
      "source": [
        "label_mean = np.mean(train_labels)\n",
        "label_std = np.std(train_labels)\n",
        "normalized_train_labels = (train_labels - label_mean) / label_std"
      ],
      "metadata": {
        "id": "BEIzMsi2dlPH"
      },
      "execution_count": 6,
      "outputs": []
    },
    {
      "cell_type": "markdown",
      "metadata": {
        "id": "uE2b5PRGVkx6"
      },
      "source": [
        "Now, if we look at the mean of the normalized train features, it will be zero for all features (within floating point error) and the standard deviation will be 1 for all features:"
      ]
    },
    {
      "cell_type": "code",
      "metadata": {
        "colab": {
          "base_uri": "https://localhost:8080/"
        },
        "id": "au5BfryGVjEz",
        "outputId": "9a3a6b9f-c267-44be-c5d3-d9ff62aafa2f"
      },
      "source": [
        "print(np.mean(normalized_train_features, axis=0))\n",
        "print(np.std(normalized_train_features, axis=0))"
      ],
      "execution_count": 7,
      "outputs": [
        {
          "output_type": "stream",
          "name": "stdout",
          "text": [
            "[-1.01541438e-16  1.09923072e-17  1.74337992e-15 -1.26686340e-16\n",
            " -5.25377321e-15  6.41414864e-15  2.98441140e-16  4.94653823e-16\n",
            "  1.12671149e-17 -1.98136337e-16  2.36686358e-14  5.95679996e-15\n",
            "  6.13920356e-16]\n",
            "[1. 1. 1. 1. 1. 1. 1. 1. 1. 1. 1. 1. 1.]\n"
          ]
        }
      ]
    },
    {
      "cell_type": "markdown",
      "metadata": {
        "id": "ZI6NdR66V8mu"
      },
      "source": [
        "Now that our data is normalized, we need to build the structure of our neural network:"
      ]
    },
    {
      "cell_type": "code",
      "metadata": {
        "id": "7xdx6Fu_VGEa"
      },
      "source": [
        "def build_model():\n",
        "  model = keras.Sequential([\n",
        "                            Dense(20, activation=tf.nn.relu, input_shape=[normalized_train_features.shape[1]]),\n",
        "                            Dense(1)\n",
        "  ])\n",
        "\n",
        "  model.compile(optimizer=keras.optimizers.Adam(), loss='mse', metrics=['mae', 'mse'])\n",
        "  return model"
      ],
      "execution_count": 8,
      "outputs": []
    },
    {
      "cell_type": "markdown",
      "metadata": {
        "id": "ewQpzxfAW7JB"
      },
      "source": [
        "Now we need to train our neural network. \n",
        "\n",
        "Here's the next video in the [3Blue1Brown Neural Network series](https://www.youtube.com/watch?v=IHZwWFHWa-w)."
      ]
    },
    {
      "cell_type": "code",
      "metadata": {
        "id": "EVi4As1zWnnD"
      },
      "source": [
        "model = build_model()\n",
        "history = model.fit(normalized_train_features, normalized_train_labels, epochs=1000, validation_split=0.1, verbose=0)"
      ],
      "execution_count": 9,
      "outputs": []
    },
    {
      "cell_type": "code",
      "metadata": {
        "colab": {
          "base_uri": "https://localhost:8080/",
          "height": 424
        },
        "id": "zAgbAYZqXa5z",
        "outputId": "d1f9c602-550f-4f1d-e411-233720235358"
      },
      "source": [
        "hist = pd.DataFrame(history.history)\n",
        "hist"
      ],
      "execution_count": 10,
      "outputs": [
        {
          "output_type": "execute_result",
          "data": {
            "text/plain": [
              "         loss       mae       mse  val_loss   val_mae   val_mse\n",
              "0    1.130784  0.740838  1.130784  0.495126  0.585270  0.495126\n",
              "1    0.906808  0.664618  0.906808  0.384290  0.503552  0.384290\n",
              "2    0.738172  0.600307  0.738172  0.314763  0.444144  0.314763\n",
              "3    0.635058  0.554121  0.635058  0.277894  0.408861  0.277894\n",
              "4    0.532776  0.515203  0.532776  0.258116  0.392934  0.258116\n",
              "..        ...       ...       ...       ...       ...       ...\n",
              "995  0.032749  0.133766  0.032749  0.117985  0.270568  0.117985\n",
              "996  0.030557  0.127834  0.030557  0.113915  0.268503  0.113915\n",
              "997  0.030616  0.128102  0.030616  0.114987  0.268429  0.114987\n",
              "998  0.031334  0.130860  0.031334  0.116904  0.270952  0.116904\n",
              "999  0.030624  0.128358  0.030624  0.114663  0.265328  0.114663\n",
              "\n",
              "[1000 rows x 6 columns]"
            ],
            "text/html": [
              "\n",
              "  <div id=\"df-98c40300-0f9a-47d0-b19c-17d474ddbdd3\">\n",
              "    <div class=\"colab-df-container\">\n",
              "      <div>\n",
              "<style scoped>\n",
              "    .dataframe tbody tr th:only-of-type {\n",
              "        vertical-align: middle;\n",
              "    }\n",
              "\n",
              "    .dataframe tbody tr th {\n",
              "        vertical-align: top;\n",
              "    }\n",
              "\n",
              "    .dataframe thead th {\n",
              "        text-align: right;\n",
              "    }\n",
              "</style>\n",
              "<table border=\"1\" class=\"dataframe\">\n",
              "  <thead>\n",
              "    <tr style=\"text-align: right;\">\n",
              "      <th></th>\n",
              "      <th>loss</th>\n",
              "      <th>mae</th>\n",
              "      <th>mse</th>\n",
              "      <th>val_loss</th>\n",
              "      <th>val_mae</th>\n",
              "      <th>val_mse</th>\n",
              "    </tr>\n",
              "  </thead>\n",
              "  <tbody>\n",
              "    <tr>\n",
              "      <th>0</th>\n",
              "      <td>1.130784</td>\n",
              "      <td>0.740838</td>\n",
              "      <td>1.130784</td>\n",
              "      <td>0.495126</td>\n",
              "      <td>0.585270</td>\n",
              "      <td>0.495126</td>\n",
              "    </tr>\n",
              "    <tr>\n",
              "      <th>1</th>\n",
              "      <td>0.906808</td>\n",
              "      <td>0.664618</td>\n",
              "      <td>0.906808</td>\n",
              "      <td>0.384290</td>\n",
              "      <td>0.503552</td>\n",
              "      <td>0.384290</td>\n",
              "    </tr>\n",
              "    <tr>\n",
              "      <th>2</th>\n",
              "      <td>0.738172</td>\n",
              "      <td>0.600307</td>\n",
              "      <td>0.738172</td>\n",
              "      <td>0.314763</td>\n",
              "      <td>0.444144</td>\n",
              "      <td>0.314763</td>\n",
              "    </tr>\n",
              "    <tr>\n",
              "      <th>3</th>\n",
              "      <td>0.635058</td>\n",
              "      <td>0.554121</td>\n",
              "      <td>0.635058</td>\n",
              "      <td>0.277894</td>\n",
              "      <td>0.408861</td>\n",
              "      <td>0.277894</td>\n",
              "    </tr>\n",
              "    <tr>\n",
              "      <th>4</th>\n",
              "      <td>0.532776</td>\n",
              "      <td>0.515203</td>\n",
              "      <td>0.532776</td>\n",
              "      <td>0.258116</td>\n",
              "      <td>0.392934</td>\n",
              "      <td>0.258116</td>\n",
              "    </tr>\n",
              "    <tr>\n",
              "      <th>...</th>\n",
              "      <td>...</td>\n",
              "      <td>...</td>\n",
              "      <td>...</td>\n",
              "      <td>...</td>\n",
              "      <td>...</td>\n",
              "      <td>...</td>\n",
              "    </tr>\n",
              "    <tr>\n",
              "      <th>995</th>\n",
              "      <td>0.032749</td>\n",
              "      <td>0.133766</td>\n",
              "      <td>0.032749</td>\n",
              "      <td>0.117985</td>\n",
              "      <td>0.270568</td>\n",
              "      <td>0.117985</td>\n",
              "    </tr>\n",
              "    <tr>\n",
              "      <th>996</th>\n",
              "      <td>0.030557</td>\n",
              "      <td>0.127834</td>\n",
              "      <td>0.030557</td>\n",
              "      <td>0.113915</td>\n",
              "      <td>0.268503</td>\n",
              "      <td>0.113915</td>\n",
              "    </tr>\n",
              "    <tr>\n",
              "      <th>997</th>\n",
              "      <td>0.030616</td>\n",
              "      <td>0.128102</td>\n",
              "      <td>0.030616</td>\n",
              "      <td>0.114987</td>\n",
              "      <td>0.268429</td>\n",
              "      <td>0.114987</td>\n",
              "    </tr>\n",
              "    <tr>\n",
              "      <th>998</th>\n",
              "      <td>0.031334</td>\n",
              "      <td>0.130860</td>\n",
              "      <td>0.031334</td>\n",
              "      <td>0.116904</td>\n",
              "      <td>0.270952</td>\n",
              "      <td>0.116904</td>\n",
              "    </tr>\n",
              "    <tr>\n",
              "      <th>999</th>\n",
              "      <td>0.030624</td>\n",
              "      <td>0.128358</td>\n",
              "      <td>0.030624</td>\n",
              "      <td>0.114663</td>\n",
              "      <td>0.265328</td>\n",
              "      <td>0.114663</td>\n",
              "    </tr>\n",
              "  </tbody>\n",
              "</table>\n",
              "<p>1000 rows × 6 columns</p>\n",
              "</div>\n",
              "      <button class=\"colab-df-convert\" onclick=\"convertToInteractive('df-98c40300-0f9a-47d0-b19c-17d474ddbdd3')\"\n",
              "              title=\"Convert this dataframe to an interactive table.\"\n",
              "              style=\"display:none;\">\n",
              "        \n",
              "  <svg xmlns=\"http://www.w3.org/2000/svg\" height=\"24px\"viewBox=\"0 0 24 24\"\n",
              "       width=\"24px\">\n",
              "    <path d=\"M0 0h24v24H0V0z\" fill=\"none\"/>\n",
              "    <path d=\"M18.56 5.44l.94 2.06.94-2.06 2.06-.94-2.06-.94-.94-2.06-.94 2.06-2.06.94zm-11 1L8.5 8.5l.94-2.06 2.06-.94-2.06-.94L8.5 2.5l-.94 2.06-2.06.94zm10 10l.94 2.06.94-2.06 2.06-.94-2.06-.94-.94-2.06-.94 2.06-2.06.94z\"/><path d=\"M17.41 7.96l-1.37-1.37c-.4-.4-.92-.59-1.43-.59-.52 0-1.04.2-1.43.59L10.3 9.45l-7.72 7.72c-.78.78-.78 2.05 0 2.83L4 21.41c.39.39.9.59 1.41.59.51 0 1.02-.2 1.41-.59l7.78-7.78 2.81-2.81c.8-.78.8-2.07 0-2.86zM5.41 20L4 18.59l7.72-7.72 1.47 1.35L5.41 20z\"/>\n",
              "  </svg>\n",
              "      </button>\n",
              "      \n",
              "  <style>\n",
              "    .colab-df-container {\n",
              "      display:flex;\n",
              "      flex-wrap:wrap;\n",
              "      gap: 12px;\n",
              "    }\n",
              "\n",
              "    .colab-df-convert {\n",
              "      background-color: #E8F0FE;\n",
              "      border: none;\n",
              "      border-radius: 50%;\n",
              "      cursor: pointer;\n",
              "      display: none;\n",
              "      fill: #1967D2;\n",
              "      height: 32px;\n",
              "      padding: 0 0 0 0;\n",
              "      width: 32px;\n",
              "    }\n",
              "\n",
              "    .colab-df-convert:hover {\n",
              "      background-color: #E2EBFA;\n",
              "      box-shadow: 0px 1px 2px rgba(60, 64, 67, 0.3), 0px 1px 3px 1px rgba(60, 64, 67, 0.15);\n",
              "      fill: #174EA6;\n",
              "    }\n",
              "\n",
              "    [theme=dark] .colab-df-convert {\n",
              "      background-color: #3B4455;\n",
              "      fill: #D2E3FC;\n",
              "    }\n",
              "\n",
              "    [theme=dark] .colab-df-convert:hover {\n",
              "      background-color: #434B5C;\n",
              "      box-shadow: 0px 1px 3px 1px rgba(0, 0, 0, 0.15);\n",
              "      filter: drop-shadow(0px 1px 2px rgba(0, 0, 0, 0.3));\n",
              "      fill: #FFFFFF;\n",
              "    }\n",
              "  </style>\n",
              "\n",
              "      <script>\n",
              "        const buttonEl =\n",
              "          document.querySelector('#df-98c40300-0f9a-47d0-b19c-17d474ddbdd3 button.colab-df-convert');\n",
              "        buttonEl.style.display =\n",
              "          google.colab.kernel.accessAllowed ? 'block' : 'none';\n",
              "\n",
              "        async function convertToInteractive(key) {\n",
              "          const element = document.querySelector('#df-98c40300-0f9a-47d0-b19c-17d474ddbdd3');\n",
              "          const dataTable =\n",
              "            await google.colab.kernel.invokeFunction('convertToInteractive',\n",
              "                                                     [key], {});\n",
              "          if (!dataTable) return;\n",
              "\n",
              "          const docLinkHtml = 'Like what you see? Visit the ' +\n",
              "            '<a target=\"_blank\" href=https://colab.research.google.com/notebooks/data_table.ipynb>data table notebook</a>'\n",
              "            + ' to learn more about interactive tables.';\n",
              "          element.innerHTML = '';\n",
              "          dataTable['output_type'] = 'display_data';\n",
              "          await google.colab.output.renderOutput(dataTable, element);\n",
              "          const docLink = document.createElement('div');\n",
              "          docLink.innerHTML = docLinkHtml;\n",
              "          element.appendChild(docLink);\n",
              "        }\n",
              "      </script>\n",
              "    </div>\n",
              "  </div>\n",
              "  "
            ]
          },
          "metadata": {},
          "execution_count": 10
        }
      ]
    },
    {
      "cell_type": "code",
      "metadata": {
        "colab": {
          "base_uri": "https://localhost:8080/",
          "height": 279
        },
        "id": "A6jAUSn2YdP-",
        "outputId": "7a3e6dbc-9349-4a04-cadc-68ce6d1b85cf"
      },
      "source": [
        "plt.plot(hist['mse'])\n",
        "plt.xlabel('Epoch')\n",
        "plt.ylabel('MSE');"
      ],
      "execution_count": 11,
      "outputs": [
        {
          "output_type": "display_data",
          "data": {
            "text/plain": [
              "<Figure size 432x288 with 1 Axes>"
            ],
            "image/png": "[encoded data removed]"
          },
          "metadata": {
            "needs_background": "light"
          }
        }
      ]
    },
    {
      "cell_type": "markdown",
      "metadata": {
        "id": "WCMUPI1DY9tH"
      },
      "source": [
        "Now lets look at a few pieces of test data and see what our network preducts!"
      ]
    },
    {
      "cell_type": "code",
      "metadata": {
        "colab": {
          "base_uri": "https://localhost:8080/"
        },
        "id": "i0XWHhOgYmDA",
        "outputId": "6240cfef-c82c-4dd5-966d-956114a222dc"
      },
      "source": [
        "normalized_test_features = (test_features - train_mean) / train_std\n",
        "normalized_test_features.shape"
      ],
      "execution_count": 12,
      "outputs": [
        {
          "output_type": "execute_result",
          "data": {
            "text/plain": [
              "(102, 13)"
            ]
          },
          "metadata": {},
          "execution_count": 12
        }
      ]
    },
    {
      "cell_type": "code",
      "metadata": {
        "colab": {
          "base_uri": "https://localhost:8080/",
          "height": 296
        },
        "id": "Uwhxz4ZyZK8F",
        "outputId": "e62a6017-7b17-40bf-fff3-60aba2bb6457"
      },
      "source": [
        "result = model.predict(normalized_test_features)\n",
        "print(result.shape)\n",
        "\n",
        "plt.scatter(test_labels, result[:, 0] * label_std + label_mean)\n",
        "plt.xlabel('True Value (1000s of $)')\n",
        "plt.ylabel('Predicted Value (1000s of $)');\n"
      ],
      "execution_count": 14,
      "outputs": [
        {
          "output_type": "stream",
          "name": "stdout",
          "text": [
            "(102, 1)\n"
          ]
        },
        {
          "output_type": "display_data",
          "data": {
            "text/plain": [
              "<Figure size 432x288 with 1 Axes>"
            ],
            "image/png": "[encoded data removed]"
          },
          "metadata": {
            "needs_background": "light"
          }
        }
      ]
    },
    {
      "cell_type": "code",
      "metadata": {
        "id": "fDdDxgbYZaVN"
      },
      "source": [
        ""
      ],
      "execution_count": null,
      "outputs": []
    }
  ]
}