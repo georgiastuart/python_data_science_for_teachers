{
  "nbformat": 4,
  "nbformat_minor": 0,
  "metadata": {
    "colab": {
      "name": "NOTES Python for Data Science: Lesson 1",
      "provenance": [],
      "collapsed_sections": [],
      "authorship_tag": "ABX9TyP2R9k+bknB7KoLMEG8CZa4",
      "include_colab_link": true
    },
    "kernelspec": {
      "name": "python3",
      "display_name": "Python 3"
    },
    "language_info": {
      "name": "python"
    }
  },
  "cells": [
    {
      "cell_type": "markdown",
      "metadata": {
        "id": "view-in-github",
        "colab_type": "text"
      },
      "source": [
        "<a href=\"https://colab.research.google.com/github/georgiastuart/python_data_science_for_teachers/blob/main/NOTES_Python_for_Data_Science_Lesson_1.ipynb\" target=\"_parent\"><img src=\"https://colab.research.google.com/assets/colab-badge.svg\" alt=\"Open In Colab\"/></a>"
      ]
    },
    {
      "cell_type": "markdown",
      "metadata": {
        "id": "uW_4YxLFVq58"
      },
      "source": [
        "# Python for Data Science: Lesson 1 Python Review\n",
        "\n",
        "Welcome to Python for Data Science! In this training we will:\n",
        "- learn to use Jupyter notebooks via Google colab\n",
        "- learn about machine learning, neural networks, and tensorflow\n",
        "- discuss some of the ethical pitfalls of machine learning"
      ]
    },
    {
      "cell_type": "markdown",
      "metadata": {
        "id": "IrtWJ7FSgX4t"
      },
      "source": [
        "## Python Review\n",
        "\n",
        "We can `print` to the output region using the `print()` function:\n",
        "\n",
        "NOTE: When using special characters in strings, you need to *escape* them.\n",
        "\n",
        "```python\n",
        "mystring = 'It\\'s going to be a sunny day today'\n",
        "```"
      ]
    },
    {
      "cell_type": "code",
      "metadata": {
        "id": "0-R3M4qLky2f",
        "colab": {
          "base_uri": "https://localhost:8080/"
        },
        "outputId": "3f29fc12-9b55-468a-ad70-418d1a5555c4"
      },
      "source": [
        "print('Hello world! It\\'s going to be sunny today!')"
      ],
      "execution_count": null,
      "outputs": [
        {
          "output_type": "stream",
          "name": "stdout",
          "text": [
            "Hello world! It's going to be sunny today!\n"
          ]
        }
      ]
    },
    {
      "cell_type": "markdown",
      "source": [
        "### Returns in Strings\n",
        "\n",
        "To do a newline in a string, we use `\\n` "
      ],
      "metadata": {
        "id": "pjMv8NgVawmD"
      }
    },
    {
      "cell_type": "code",
      "source": [
        "print('This is the first line\\nThis is the second line.')"
      ],
      "metadata": {
        "colab": {
          "base_uri": "https://localhost:8080/"
        },
        "id": "_JUG--uHavEj",
        "outputId": "9b65aa7e-665f-4651-b1e6-3b953692a8cd"
      },
      "execution_count": null,
      "outputs": [
        {
          "output_type": "stream",
          "name": "stdout",
          "text": [
            "This is the first line\n",
            "This is the second line.\n"
          ]
        }
      ]
    },
    {
      "cell_type": "markdown",
      "metadata": {
        "id": "ZWyliY4zgrvE"
      },
      "source": [
        "### Variables\n",
        "\n",
        "**Variables** in Python are declared and set with the assignment operator, `=`.\n",
        "\n",
        "Python uses the **snake case** convention: `snake_case`. Variables are lower case and words are separated with the underscore character.\n",
        "\n",
        "`thisIsAnExampleOfCamelCase`\n",
        "\n",
        "`this_is_an_example_of_snake_case`\n",
        "\n",
        "In a Jupyter notebook, we can output the value of a variable to the output region simply by typing the name."
      ]
    },
    {
      "cell_type": "code",
      "metadata": {
        "colab": {
          "base_uri": "https://localhost:8080/",
          "height": 35
        },
        "id": "SeGXCjRlggiI",
        "outputId": "b0054d69-58d7-43e6-89b7-eca1741c67c6"
      },
      "source": [
        "my_variable = 'Hello!'\n",
        "my_variable"
      ],
      "execution_count": null,
      "outputs": [
        {
          "output_type": "execute_result",
          "data": {
            "text/plain": [
              "'Hello!'"
            ],
            "application/vnd.google.colaboratory.intrinsic+json": {
              "type": "string"
            }
          },
          "metadata": {},
          "execution_count": 5
        }
      ]
    },
    {
      "cell_type": "markdown",
      "metadata": {
        "id": "SC3n4G1298wv"
      },
      "source": [
        "Variables in Python are not locked to a single type. For example, this is valid python code:"
      ]
    },
    {
      "cell_type": "code",
      "metadata": {
        "colab": {
          "base_uri": "https://localhost:8080/"
        },
        "id": "mipIojpE-CN-",
        "outputId": "2a60962b-d360-4ca0-eb75-b41dcf8ef75b"
      },
      "source": [
        "my_variable = 10\n",
        "print(my_variable)\n",
        "my_variable = 'dog'\n",
        "print(my_variable)"
      ],
      "execution_count": null,
      "outputs": [
        {
          "output_type": "stream",
          "name": "stdout",
          "text": [
            "10\n",
            "dog\n"
          ]
        }
      ]
    },
    {
      "cell_type": "markdown",
      "metadata": {
        "id": "A3jRcggHhmhE"
      },
      "source": [
        "### User input\n",
        "\n",
        "We can take user input with the `input()` function. If you need an `int` or a `float`, you must **cast** it with the `int()` or `float()` functions:\n",
        "\n",
        "```python\n",
        "my_string = input('What is your name?')\n",
        "my_int = int(input('How old are you (in whole numbers)?'))\n",
        "my_float = float(input('What is Pi to two decimal places?'))\n",
        "```\n",
        "\n",
        "### Conditionals\n",
        "\n",
        "Python does not have a switch structure (yet), but it does have if - else if - else:\n",
        "\n",
        "```python\n",
        "if <condition>:\n",
        "  <code block>\n",
        "elif <another condition>:\n",
        "  <code block>\n",
        "else:\n",
        "  <final code block>\n",
        "```\n",
        "\n",
        "You can use as many `elif`s as you need.\n",
        "\n",
        "Here's an example:"
      ]
    },
    {
      "cell_type": "code",
      "source": [
        ""
      ],
      "metadata": {
        "id": "AlSfJfB7c6U6"
      },
      "execution_count": null,
      "outputs": []
    },
    {
      "cell_type": "code",
      "source": [
        "name = input('What is your name?')\n",
        "print('Hello, ' + name)"
      ],
      "metadata": {
        "colab": {
          "base_uri": "https://localhost:8080/"
        },
        "id": "5pQKZwBOcgIY",
        "outputId": "d9fb4d28-9553-4f52-fc82-e0324a1abeb7"
      },
      "execution_count": null,
      "outputs": [
        {
          "output_type": "stream",
          "name": "stdout",
          "text": [
            "What is your name?Georgia\n",
            "Hello, Georgia\n"
          ]
        }
      ]
    },
    {
      "cell_type": "code",
      "metadata": {
        "colab": {
          "base_uri": "https://localhost:8080/"
        },
        "id": "_ZdvDll3hP4S",
        "outputId": "a455e54b-bc6b-4d1d-83a0-0c0e82d913fb"
      },
      "source": [
        "grade = float(input('Enter your grade: '))\n",
        "\n",
        "if grade >= 90:\n",
        "  print('{:.2f}% is an A'.format(grade))\n",
        "elif grade >= 80:\n",
        "  print('You got a B')\n",
        "elif grade >= 70:\n",
        "  print('You got a C')\n",
        "elif grade >= 60:\n",
        "  print('You got a D')\n",
        "else:\n",
        "  print('You got an F')"
      ],
      "execution_count": null,
      "outputs": [
        {
          "output_type": "stream",
          "name": "stdout",
          "text": [
            "Enter your grade: 95.555555555\n",
            "95.56% is an A\n"
          ]
        }
      ]
    },
    {
      "cell_type": "markdown",
      "source": [
        "### String formatting in Python\n",
        "\n",
        "1. Turn the variable into a string with `str`\n",
        "```python\n",
        "str(grade) + '% is an A'\n",
        "```\n",
        "2. Use `.format` \n",
        "```python\n",
        "'{0:.2f}% is an A. Good job, {}'.format(grade, name)\n",
        "```\n",
        "3. Use `f strings`\n",
        "```python\n",
        "f'{grade:.2f}% is an A. Good job, {name}'\n",
        "```"
      ],
      "metadata": {
        "id": "m6QMIKlchCc9"
      }
    },
    {
      "cell_type": "code",
      "source": [
        "my_string = 'This is a sentence'\n",
        "print(my_string[2:7])"
      ],
      "metadata": {
        "colab": {
          "base_uri": "https://localhost:8080/"
        },
        "id": "QwwQid5UhCAV",
        "outputId": "36b21f60-3e77-4a5e-e899-a8eaa92184d5"
      },
      "execution_count": null,
      "outputs": [
        {
          "output_type": "stream",
          "name": "stdout",
          "text": [
            "is is\n"
          ]
        }
      ]
    },
    {
      "cell_type": "markdown",
      "metadata": {
        "id": "pUnUJP-b-Lj0"
      },
      "source": [
        "**Your turn!**\n",
        "\n",
        "Write a small program that takes user input and then prints different things depending on that input."
      ]
    },
    {
      "cell_type": "code",
      "metadata": {
        "id": "AOfjX4Ep-Ryi"
      },
      "source": [
        "# Your code here\n",
        "\n"
      ],
      "execution_count": null,
      "outputs": []
    },
    {
      "cell_type": "markdown",
      "metadata": {
        "id": "yQ2IiQqFm4qk"
      },
      "source": [
        "### Loops\n",
        "\n",
        "Python has two types of loops: `for` loops and `while` loops."
      ]
    },
    {
      "cell_type": "markdown",
      "source": [
        "#### Javascript Equivalency\n",
        "\n",
        "```javascript\n",
        "for (let i = 0; i < 10; i++) {\n",
        "  console.log(i)\n",
        "}\n",
        "```"
      ],
      "metadata": {
        "id": "aPKNp_0sjrBp"
      }
    },
    {
      "cell_type": "code",
      "metadata": {
        "colab": {
          "base_uri": "https://localhost:8080/"
        },
        "id": "OH2VJKwSk_xI",
        "outputId": "a221f862-61af-48b0-c3d0-7adc0f6fff6d"
      },
      "source": [
        "for i in range(10):\n",
        "  print(i, end=' ')"
      ],
      "execution_count": null,
      "outputs": [
        {
          "output_type": "stream",
          "name": "stdout",
          "text": [
            "0 1 2 3 4 5 6 7 8 9 "
          ]
        }
      ]
    },
    {
      "cell_type": "code",
      "metadata": {
        "colab": {
          "base_uri": "https://localhost:8080/"
        },
        "id": "iatlraS5pTnG",
        "outputId": "47d4978b-4114-4f44-8810-5a82053577d4"
      },
      "source": [
        "print('Think of a secret number between 1 and 100 (inclusive)!')\n",
        "\n",
        "guess = 50\n",
        "upper = 101\n",
        "lower = 0\n",
        "num_guesses = 1\n",
        "\n",
        "user_response = ' '\n",
        "\n",
        "while user_response.lower() != 'c':\n",
        "  user_response = input('Is your number higher or lower than {}?\\n Enter \"H\" for higher, \"L\" for lower, or \"C\" for correct: '.format(guess))\n",
        "\n",
        "  if user_response.lower() == 'h':\n",
        "    lower = guess\n",
        "    guess = (upper + lower) // 2 \n",
        "    num_guesses += 1\n",
        "  elif user_response.lower() == 'l':\n",
        "    upper = guess\n",
        "    guess = (upper + lower) // 2\n",
        "    num_guesses += 1\n",
        "  elif user_response.lower() != 'c':\n",
        "    print('{} is not a valid input.'.format(user_response))\n",
        "\n",
        "print('I guessed your number, {}, in {} guesses!'.format(guess, num_guesses))"
      ],
      "execution_count": null,
      "outputs": [
        {
          "output_type": "stream",
          "name": "stdout",
          "text": [
            "Think of a secret number between 1 and 100 (inclusive)!\n",
            "Is your number higher or lower than 50?\n",
            " Enter \"H\" for higher, \"L\" for lower, or \"C\" for correct: f\n",
            "f is not a valid input.\n",
            "Is your number higher or lower than 50?\n",
            " Enter \"H\" for higher, \"L\" for lower, or \"C\" for correct: c\n",
            "I guessed your number, 50, in 1 guesses!\n"
          ]
        }
      ]
    },
    {
      "cell_type": "markdown",
      "metadata": {
        "id": "F-fgYRQy-V_i"
      },
      "source": [
        "**Your Turn!**\n",
        "\n",
        "Create a for loop that counts from 1 to 100 by 3s, then create a while loop that does the same thing.\n",
        "\n",
        "```python\n",
        "range(end_number)\n",
        "range(start, end)\n",
        "range(start, end, step)\n",
        "```"
      ]
    },
    {
      "cell_type": "code",
      "source": [
        "for i in range(50, 70, 2):\n",
        "  print(i)"
      ],
      "metadata": {
        "colab": {
          "base_uri": "https://localhost:8080/"
        },
        "id": "wFHFgdrFmGl_",
        "outputId": "a438aae2-06a9-4f6d-837d-d1eb2f969d6d"
      },
      "execution_count": null,
      "outputs": [
        {
          "output_type": "stream",
          "name": "stdout",
          "text": [
            "50\n",
            "52\n",
            "54\n",
            "56\n",
            "58\n",
            "60\n",
            "62\n",
            "64\n",
            "66\n",
            "68\n"
          ]
        }
      ]
    },
    {
      "cell_type": "markdown",
      "source": [
        "# RESUME AT 10:50 am!"
      ],
      "metadata": {
        "id": "IOUkLgklqOG5"
      }
    },
    {
      "cell_type": "code",
      "metadata": {
        "id": "1aaHGfPT-fij",
        "colab": {
          "base_uri": "https://localhost:8080/"
        },
        "outputId": "05a4b334-04e4-4839-edb3-526137fc4555"
      },
      "source": [
        "# Your code here!\n",
        "\n",
        "for i in range(1, 101, 3):\n",
        "  print(i, end=' ')\n",
        "\n",
        "print()\n",
        "counter = 1\n",
        "while counter < 101:\n",
        "  print(counter, end=' ')\n",
        "  counter += 3"
      ],
      "execution_count": null,
      "outputs": [
        {
          "output_type": "stream",
          "name": "stdout",
          "text": [
            "1 4 7 10 13 16 19 22 25 28 31 34 37 40 43 46 49 52 55 58 61 64 67 70 73 76 79 82 85 88 91 94 97 100 \n",
            "1 4 7 10 13 16 19 22 25 28 31 34 37 40 43 46 49 52 55 58 61 64 67 70 73 76 79 82 85 88 91 94 97 100 "
          ]
        }
      ]
    },
    {
      "cell_type": "markdown",
      "metadata": {
        "id": "qAQiahGw8pzr"
      },
      "source": [
        "### Lists\n",
        "\n",
        "We can have collections of data called **lists**.\n",
        "\n",
        "Unlike *arrays*, lists in Python can contain different types of information.\n"
      ]
    },
    {
      "cell_type": "code",
      "metadata": {
        "colab": {
          "base_uri": "https://localhost:8080/"
        },
        "id": "xax7EbRA9Ioz",
        "outputId": "8814c63d-6afd-4458-d205-bbb829a0c44b"
      },
      "source": [
        "my_list = [1, 'cat', 3.14, True]\n",
        "\n",
        "for item in my_list:\n",
        "  print('{} is a {}'.format(item, type(item)))"
      ],
      "execution_count": null,
      "outputs": [
        {
          "output_type": "stream",
          "name": "stdout",
          "text": [
            "1 is a <class 'int'>\n",
            "cat is a <class 'str'>\n",
            "3.14 is a <class 'float'>\n",
            "True is a <class 'bool'>\n"
          ]
        }
      ]
    },
    {
      "cell_type": "code",
      "source": [
        "print(my_list[1])"
      ],
      "metadata": {
        "colab": {
          "base_uri": "https://localhost:8080/"
        },
        "id": "cKSOFhqfufv2",
        "outputId": "0ff16656-e934-40de-e12b-71b47ced61bd"
      },
      "execution_count": null,
      "outputs": [
        {
          "output_type": "stream",
          "name": "stdout",
          "text": [
            "cat\n"
          ]
        }
      ]
    },
    {
      "cell_type": "code",
      "source": [
        "my_nested_list = ['dog', [3, 4, 5], True]\n",
        "my_nested_list[1][1]"
      ],
      "metadata": {
        "colab": {
          "base_uri": "https://localhost:8080/"
        },
        "id": "lmo0QluPu8_H",
        "outputId": "8d7bc063-25af-4cc6-93ee-1b600b1a5534"
      },
      "execution_count": null,
      "outputs": [
        {
          "output_type": "execute_result",
          "data": {
            "text/plain": [
              "4"
            ]
          },
          "metadata": {},
          "execution_count": 35
        }
      ]
    },
    {
      "cell_type": "code",
      "source": [
        "my_list = [1, 'cat', 3.14, True]\n",
        "my_list.append('gadget')\n",
        "print(my_list)"
      ],
      "metadata": {
        "colab": {
          "base_uri": "https://localhost:8080/"
        },
        "id": "29IMLFrjvdtY",
        "outputId": "d8a563b9-2042-43e3-e555-5cb80fea56c3"
      },
      "execution_count": null,
      "outputs": [
        {
          "output_type": "stream",
          "name": "stdout",
          "text": [
            "[1, 'cat', 3.14, True, 'gadget']\n"
          ]
        }
      ]
    },
    {
      "cell_type": "markdown",
      "metadata": {
        "id": "dVq8Hn1a9fZR"
      },
      "source": [
        "We can also find the *length* of a list using `len`:"
      ]
    },
    {
      "cell_type": "code",
      "metadata": {
        "colab": {
          "base_uri": "https://localhost:8080/"
        },
        "id": "11jXaTxy9noN",
        "outputId": "4c808357-8bdd-4943-837f-46998c8f0b81"
      },
      "source": [
        "len(my_nested_list)"
      ],
      "execution_count": null,
      "outputs": [
        {
          "output_type": "execute_result",
          "data": {
            "text/plain": [
              "3"
            ]
          },
          "metadata": {},
          "execution_count": 38
        }
      ]
    },
    {
      "cell_type": "markdown",
      "metadata": {
        "id": "zsoiuRNH9tFY"
      },
      "source": [
        "And if the list contains all comparable items, we can *sort* it:"
      ]
    },
    {
      "cell_type": "code",
      "metadata": {
        "colab": {
          "base_uri": "https://localhost:8080/"
        },
        "id": "wqtE2klp9xno",
        "outputId": "d6e8e437-f8d9-4238-d3c4-d58a121c1d5e"
      },
      "source": [
        "animals = ['whale', 'lemur', 'dog', 'fish', 'cat', 'Dog']\n",
        "animals.sort(key = lambda var: var.lower())\n",
        "animals"
      ],
      "execution_count": null,
      "outputs": [
        {
          "output_type": "execute_result",
          "data": {
            "text/plain": [
              "['cat', 'dog', 'Dog', 'fish', 'lemur', 'whale']"
            ]
          },
          "metadata": {},
          "execution_count": 49
        }
      ]
    },
    {
      "cell_type": "markdown",
      "source": [
        "Javascript Equivalent:\n",
        "\n",
        "```javascript\n",
        "let animals = ['whale', 'lemur', 'dog', 'fish', 'cat', 'Dog']\n",
        "animals.sort((first, second) => first.toLowerCase() <= second.toLowerCase())\n",
        "```"
      ],
      "metadata": {
        "id": "Qi59n9CWyYzM"
      }
    },
    {
      "cell_type": "markdown",
      "metadata": {
        "id": "N6oG41tU-jRC"
      },
      "source": [
        "**Your Turn!**\n",
        "\n",
        "Create a list of your favorite books or movies, then (with a for loop) print out a sentence for each book or movie saying `<book item> is one of my favorite books!`"
      ]
    },
    {
      "cell_type": "code",
      "source": [
        "my_dictionary = {'title': 'Probability', 'status': 'In Progress'}\n",
        "print(my_dictionary['title'])"
      ],
      "metadata": {
        "colab": {
          "base_uri": "https://localhost:8080/"
        },
        "id": "3X5HzcFV1OA3",
        "outputId": "9d536259-79b4-4286-d10f-2fc1f450d921"
      },
      "execution_count": null,
      "outputs": [
        {
          "output_type": "stream",
          "name": "stdout",
          "text": [
            "Probability\n"
          ]
        }
      ]
    },
    {
      "cell_type": "code",
      "source": [
        "book_list = [\n",
        "             {'title': 'Probability', 'status': 'In Progress'},\n",
        "             {'title': 'Docs for Developers', 'status': 'Completed'},\n",
        "             {'title': 'Calligraphy', 'status': 'To Read'}\n",
        "]\n",
        "\n",
        "for book in book_list:\n",
        "  print('{} is {}'.format(book['title'], book['status']))"
      ],
      "metadata": {
        "colab": {
          "base_uri": "https://localhost:8080/"
        },
        "id": "3CJcJzEr1vrl",
        "outputId": "e9009bc0-c4ae-43dc-9e95-b39f280f43c3"
      },
      "execution_count": null,
      "outputs": [
        {
          "output_type": "stream",
          "name": "stdout",
          "text": [
            "Probability is In Progress\n",
            "Docs for Developers is Completed\n",
            "Calligraphy is To Read\n"
          ]
        }
      ]
    },
    {
      "cell_type": "code",
      "source": [
        "book_list.sort(key=lambda book: book['title'].lower())\n",
        "print(book_list)"
      ],
      "metadata": {
        "colab": {
          "base_uri": "https://localhost:8080/"
        },
        "id": "BkraU8vE3zgG",
        "outputId": "4f94a546-5df6-4001-dfe6-48b977f90642"
      },
      "execution_count": null,
      "outputs": [
        {
          "output_type": "stream",
          "name": "stdout",
          "text": [
            "[{'title': 'Calligraphy', 'status': 'To Read'}, {'title': 'Docs for Developers', 'status': 'Completed'}, {'title': 'Probability', 'status': 'In Progress'}]\n"
          ]
        }
      ]
    },
    {
      "cell_type": "code",
      "metadata": {
        "id": "vFk8eaSd-105"
      },
      "source": [
        "# Your code here!"
      ],
      "execution_count": null,
      "outputs": []
    },
    {
      "cell_type": "markdown",
      "metadata": {
        "id": "ypX7ar4cTGh2"
      },
      "source": [
        "### Functions\n",
        "\n",
        "Sometimes we want to\n",
        "- organize code into reusable blocks\n",
        "- name blocks of code\n",
        "\n",
        "We can use **functions**!"
      ]
    },
    {
      "cell_type": "code",
      "metadata": {
        "id": "yzU3EO5swjNP"
      },
      "source": [
        "# The first line is the function signature\n",
        "def print_number_sequence(end_number, inclusive=False):\n",
        "  if inclusive:\n",
        "    end_number += 1\n",
        "  for i in range(end_number):\n",
        "    print(i, end=' ')\n",
        "  print()\n",
        "    "
      ],
      "execution_count": null,
      "outputs": []
    },
    {
      "cell_type": "markdown",
      "metadata": {
        "id": "DJRHiyDpUDzM"
      },
      "source": [
        "Functions must be **called** in order to be used. Above we have defined a function, now lets use it!"
      ]
    },
    {
      "cell_type": "code",
      "metadata": {
        "colab": {
          "base_uri": "https://localhost:8080/"
        },
        "id": "TGcwhazFT9sC",
        "outputId": "9f96f1b2-95f6-42e9-b609-723324b90b94"
      },
      "source": [
        "print_number_sequence(10)\n",
        "print_number_sequence(10, inclusive=True)"
      ],
      "execution_count": null,
      "outputs": [
        {
          "output_type": "stream",
          "name": "stdout",
          "text": [
            "0 1 2 3 4 5 6 7 8 9 \n",
            "0 1 2 3 4 5 6 7 8 9 10 \n"
          ]
        }
      ]
    },
    {
      "cell_type": "markdown",
      "metadata": {
        "id": "uC4i7zKVU_8f"
      },
      "source": [
        "In this function, `end_number` is a **parameter** or **argument**. `inclusive` is a special type of argument called a **keyword argument**."
      ]
    },
    {
      "cell_type": "markdown",
      "source": [
        "**Intermediate Problem**\n",
        "\n",
        "Create a function that takes an integer as a positional argument and determines if it's even (divisible by 2). It should print 'Even' or 'Odd'"
      ],
      "metadata": {
        "id": "KF0ZRqhT5FK5"
      }
    },
    {
      "cell_type": "code",
      "source": [
        "def is_even(number):\n",
        "  if number % 2 == 0:\n",
        "    print('Even')\n",
        "  else:\n",
        "    print('Odd')"
      ],
      "metadata": {
        "id": "HU5xPawv6hjE"
      },
      "execution_count": null,
      "outputs": []
    },
    {
      "cell_type": "code",
      "source": [
        "is_even(10)\n",
        "is_even(11)"
      ],
      "metadata": {
        "colab": {
          "base_uri": "https://localhost:8080/"
        },
        "id": "nPGcRYLC6qye",
        "outputId": "8b56080e-c895-4b1f-8b4d-c0c244b84e4b"
      },
      "execution_count": null,
      "outputs": [
        {
          "output_type": "stream",
          "name": "stdout",
          "text": [
            "Even\n",
            "Odd\n"
          ]
        }
      ]
    },
    {
      "cell_type": "code",
      "source": [
        "def is_even(number):\n",
        "  if number % 2 == 0:\n",
        "    return True\n",
        "  else:\n",
        "    return False"
      ],
      "metadata": {
        "id": "QqPIoMq17uHB"
      },
      "execution_count": null,
      "outputs": []
    },
    {
      "cell_type": "code",
      "source": [
        "print(is_even(10))\n",
        "print(is_even(11))"
      ],
      "metadata": {
        "colab": {
          "base_uri": "https://localhost:8080/"
        },
        "id": "rKvXa6bj7zMX",
        "outputId": "d45d66c3-81f8-484f-c62f-8da6a9e8224c"
      },
      "execution_count": null,
      "outputs": [
        {
          "output_type": "stream",
          "name": "stdout",
          "text": [
            "True\n",
            "False\n"
          ]
        }
      ]
    },
    {
      "cell_type": "code",
      "source": [
        "num = 11\n",
        "if is_even(num):\n",
        "  print('Even!')\n",
        "else:\n",
        "  print('Odd!')"
      ],
      "metadata": {
        "colab": {
          "base_uri": "https://localhost:8080/"
        },
        "id": "BWCqLOvN77Tw",
        "outputId": "2e819048-dd95-4d51-a60c-d40d51d976c4"
      },
      "execution_count": null,
      "outputs": [
        {
          "output_type": "stream",
          "name": "stdout",
          "text": [
            "Odd!\n"
          ]
        }
      ]
    },
    {
      "cell_type": "markdown",
      "metadata": {
        "id": "50k00opb-4KS"
      },
      "source": [
        "**Your Turn!**\n",
        "\n",
        "Create a *function* that takes an integer as a parameter and then determines if it's prime or not. This will bring together a lot of what we reviewed today. \n",
        "\n",
        "Other concepts you'll need:\n",
        "\n",
        "modulo operator: `number % other_number` determines the remainder of `number` divided by `other_number`. If it's 0, `number` is divisible by `other_number`."
      ]
    },
    {
      "cell_type": "code",
      "metadata": {
        "id": "sREV4ck1URJA"
      },
      "source": [
        "# Your code here"
      ],
      "execution_count": null,
      "outputs": []
    },
    {
      "cell_type": "code",
      "metadata": {
        "id": "65NvtwLm_c6j"
      },
      "source": [
        ""
      ],
      "execution_count": null,
      "outputs": []
    }
  ]
}